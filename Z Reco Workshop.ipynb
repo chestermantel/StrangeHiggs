{
 "cells": [
  {
   "cell_type": "code",
   "execution_count": 125,
   "metadata": {},
   "outputs": [],
   "source": [
    "using LaTeXStrings\n",
    "using StatsPlots\n",
    "using PrettyTables\n",
    "using Distributions\n",
    "using StatsBase\n",
    "using Corpuscles\n",
    "using UnicodeFun\n",
    "using FastJet\n",
    "using CxxWrap: StdVector\n",
    "using LCIO\n",
    "using LinearAlgebra\n",
    "using JLD2\n",
    "#pyplot()\n",
    "#gr()\n",
    "#theme(:gruvbox_dark)"
   ]
  },
  {
   "cell_type": "code",
   "execution_count": 126,
   "metadata": {},
   "outputs": [
    {
     "name": "stdout",
     "output_type": "stream",
     "text": [
      "ss has 100 files, bb has 100 files, cc has 100 files, gg has 100 files"
     ]
    },
    {
     "data": {
      "text/plain": [
       "4-element Array{Array{String,1},1}:\n",
       " [\"/nfs/dust/ilc/user/jstrube/StrangeHiggs/data/RecoLevel/E250_SetA.Pmumuh2ss.Gwhizard-2_84.eL0.8.pR0.3.0_DST.slcio\", \"/nfs/dust/ilc/user/jstrube/StrangeHiggs/data/RecoLevel/E250_SetA.Pmumuh2ss.Gwhizard-2_84.eL0.8.pR0.3.10_DST.slcio\", \"/nfs/dust/ilc/user/jstrube/StrangeHiggs/data/RecoLevel/E250_SetA.Pmumuh2ss.Gwhizard-2_84.eL0.8.pR0.3.11_DST.slcio\", \"/nfs/dust/ilc/user/jstrube/StrangeHiggs/data/RecoLevel/E250_SetA.Pmumuh2ss.Gwhizard-2_84.eL0.8.pR0.3.12_DST.slcio\", \"/nfs/dust/ilc/user/jstrube/StrangeHiggs/data/RecoLevel/E250_SetA.Pmumuh2ss.Gwhizard-2_84.eL0.8.pR0.3.13_DST.slcio\", \"/nfs/dust/ilc/user/jstrube/StrangeHiggs/data/RecoLevel/E250_SetA.Pmumuh2ss.Gwhizard-2_84.eL0.8.pR0.3.14_DST.slcio\", \"/nfs/dust/ilc/user/jstrube/StrangeHiggs/data/RecoLevel/E250_SetA.Pmumuh2ss.Gwhizard-2_84.eL0.8.pR0.3.15_DST.slcio\", \"/nfs/dust/ilc/user/jstrube/StrangeHiggs/data/RecoLevel/E250_SetA.Pmumuh2ss.Gwhizard-2_84.eL0.8.pR0.3.16_DST.slcio\", \"/nfs/dust/ilc/user/jstrube/StrangeHiggs/data/RecoLevel/E250_SetA.Pmumuh2ss.Gwhizard-2_84.eL0.8.pR0.3.17_DST.slcio\", \"/nfs/dust/ilc/user/jstrube/StrangeHiggs/data/RecoLevel/E250_SetA.Pmumuh2ss.Gwhizard-2_84.eL0.8.pR0.3.18_DST.slcio\"  …  \"/nfs/dust/ilc/user/jstrube/StrangeHiggs/data/RecoLevel/E250_SetA.Pmumuh2ss.Gwhizard-2_84.eL0.8.pR0.3.91_DST.slcio\", \"/nfs/dust/ilc/user/jstrube/StrangeHiggs/data/RecoLevel/E250_SetA.Pmumuh2ss.Gwhizard-2_84.eL0.8.pR0.3.92_DST.slcio\", \"/nfs/dust/ilc/user/jstrube/StrangeHiggs/data/RecoLevel/E250_SetA.Pmumuh2ss.Gwhizard-2_84.eL0.8.pR0.3.93_DST.slcio\", \"/nfs/dust/ilc/user/jstrube/StrangeHiggs/data/RecoLevel/E250_SetA.Pmumuh2ss.Gwhizard-2_84.eL0.8.pR0.3.94_DST.slcio\", \"/nfs/dust/ilc/user/jstrube/StrangeHiggs/data/RecoLevel/E250_SetA.Pmumuh2ss.Gwhizard-2_84.eL0.8.pR0.3.95_DST.slcio\", \"/nfs/dust/ilc/user/jstrube/StrangeHiggs/data/RecoLevel/E250_SetA.Pmumuh2ss.Gwhizard-2_84.eL0.8.pR0.3.96_DST.slcio\", \"/nfs/dust/ilc/user/jstrube/StrangeHiggs/data/RecoLevel/E250_SetA.Pmumuh2ss.Gwhizard-2_84.eL0.8.pR0.3.97_DST.slcio\", \"/nfs/dust/ilc/user/jstrube/StrangeHiggs/data/RecoLevel/E250_SetA.Pmumuh2ss.Gwhizard-2_84.eL0.8.pR0.3.98_DST.slcio\", \"/nfs/dust/ilc/user/jstrube/StrangeHiggs/data/RecoLevel/E250_SetA.Pmumuh2ss.Gwhizard-2_84.eL0.8.pR0.3.99_DST.slcio\", \"/nfs/dust/ilc/user/jstrube/StrangeHiggs/data/RecoLevel/E250_SetA.Pmumuh2ss.Gwhizard-2_84.eL0.8.pR0.3.9_DST.slcio\"]\n",
       " [\"/nfs/dust/ilc/user/jstrube/StrangeHiggs/data/RecoLevel/E250_SetA.Pmumuh2bb.Gwhizard-2_84.eL0.8.pR0.3.0_DST.slcio\", \"/nfs/dust/ilc/user/jstrube/StrangeHiggs/data/RecoLevel/E250_SetA.Pmumuh2bb.Gwhizard-2_84.eL0.8.pR0.3.10_DST.slcio\", \"/nfs/dust/ilc/user/jstrube/StrangeHiggs/data/RecoLevel/E250_SetA.Pmumuh2bb.Gwhizard-2_84.eL0.8.pR0.3.11_DST.slcio\", \"/nfs/dust/ilc/user/jstrube/StrangeHiggs/data/RecoLevel/E250_SetA.Pmumuh2bb.Gwhizard-2_84.eL0.8.pR0.3.12_DST.slcio\", \"/nfs/dust/ilc/user/jstrube/StrangeHiggs/data/RecoLevel/E250_SetA.Pmumuh2bb.Gwhizard-2_84.eL0.8.pR0.3.13_DST.slcio\", \"/nfs/dust/ilc/user/jstrube/StrangeHiggs/data/RecoLevel/E250_SetA.Pmumuh2bb.Gwhizard-2_84.eL0.8.pR0.3.14_DST.slcio\", \"/nfs/dust/ilc/user/jstrube/StrangeHiggs/data/RecoLevel/E250_SetA.Pmumuh2bb.Gwhizard-2_84.eL0.8.pR0.3.15_DST.slcio\", \"/nfs/dust/ilc/user/jstrube/StrangeHiggs/data/RecoLevel/E250_SetA.Pmumuh2bb.Gwhizard-2_84.eL0.8.pR0.3.16_DST.slcio\", \"/nfs/dust/ilc/user/jstrube/StrangeHiggs/data/RecoLevel/E250_SetA.Pmumuh2bb.Gwhizard-2_84.eL0.8.pR0.3.17_DST.slcio\", \"/nfs/dust/ilc/user/jstrube/StrangeHiggs/data/RecoLevel/E250_SetA.Pmumuh2bb.Gwhizard-2_84.eL0.8.pR0.3.18_DST.slcio\"  …  \"/nfs/dust/ilc/user/jstrube/StrangeHiggs/data/RecoLevel/E250_SetA.Pmumuh2bb.Gwhizard-2_84.eL0.8.pR0.3.91_DST.slcio\", \"/nfs/dust/ilc/user/jstrube/StrangeHiggs/data/RecoLevel/E250_SetA.Pmumuh2bb.Gwhizard-2_84.eL0.8.pR0.3.92_DST.slcio\", \"/nfs/dust/ilc/user/jstrube/StrangeHiggs/data/RecoLevel/E250_SetA.Pmumuh2bb.Gwhizard-2_84.eL0.8.pR0.3.93_DST.slcio\", \"/nfs/dust/ilc/user/jstrube/StrangeHiggs/data/RecoLevel/E250_SetA.Pmumuh2bb.Gwhizard-2_84.eL0.8.pR0.3.94_DST.slcio\", \"/nfs/dust/ilc/user/jstrube/StrangeHiggs/data/RecoLevel/E250_SetA.Pmumuh2bb.Gwhizard-2_84.eL0.8.pR0.3.95_DST.slcio\", \"/nfs/dust/ilc/user/jstrube/StrangeHiggs/data/RecoLevel/E250_SetA.Pmumuh2bb.Gwhizard-2_84.eL0.8.pR0.3.96_DST.slcio\", \"/nfs/dust/ilc/user/jstrube/StrangeHiggs/data/RecoLevel/E250_SetA.Pmumuh2bb.Gwhizard-2_84.eL0.8.pR0.3.97_DST.slcio\", \"/nfs/dust/ilc/user/jstrube/StrangeHiggs/data/RecoLevel/E250_SetA.Pmumuh2bb.Gwhizard-2_84.eL0.8.pR0.3.98_DST.slcio\", \"/nfs/dust/ilc/user/jstrube/StrangeHiggs/data/RecoLevel/E250_SetA.Pmumuh2bb.Gwhizard-2_84.eL0.8.pR0.3.99_DST.slcio\", \"/nfs/dust/ilc/user/jstrube/StrangeHiggs/data/RecoLevel/E250_SetA.Pmumuh2bb.Gwhizard-2_84.eL0.8.pR0.3.9_DST.slcio\"]\n",
       " [\"/nfs/dust/ilc/user/jstrube/StrangeHiggs/data/RecoLevel/E250_SetA.Pmumuh2cc.Gwhizard-2_84.eL0.8.pR0.3.0_DST.slcio\", \"/nfs/dust/ilc/user/jstrube/StrangeHiggs/data/RecoLevel/E250_SetA.Pmumuh2cc.Gwhizard-2_84.eL0.8.pR0.3.10_DST.slcio\", \"/nfs/dust/ilc/user/jstrube/StrangeHiggs/data/RecoLevel/E250_SetA.Pmumuh2cc.Gwhizard-2_84.eL0.8.pR0.3.11_DST.slcio\", \"/nfs/dust/ilc/user/jstrube/StrangeHiggs/data/RecoLevel/E250_SetA.Pmumuh2cc.Gwhizard-2_84.eL0.8.pR0.3.12_DST.slcio\", \"/nfs/dust/ilc/user/jstrube/StrangeHiggs/data/RecoLevel/E250_SetA.Pmumuh2cc.Gwhizard-2_84.eL0.8.pR0.3.13_DST.slcio\", \"/nfs/dust/ilc/user/jstrube/StrangeHiggs/data/RecoLevel/E250_SetA.Pmumuh2cc.Gwhizard-2_84.eL0.8.pR0.3.14_DST.slcio\", \"/nfs/dust/ilc/user/jstrube/StrangeHiggs/data/RecoLevel/E250_SetA.Pmumuh2cc.Gwhizard-2_84.eL0.8.pR0.3.15_DST.slcio\", \"/nfs/dust/ilc/user/jstrube/StrangeHiggs/data/RecoLevel/E250_SetA.Pmumuh2cc.Gwhizard-2_84.eL0.8.pR0.3.16_DST.slcio\", \"/nfs/dust/ilc/user/jstrube/StrangeHiggs/data/RecoLevel/E250_SetA.Pmumuh2cc.Gwhizard-2_84.eL0.8.pR0.3.17_DST.slcio\", \"/nfs/dust/ilc/user/jstrube/StrangeHiggs/data/RecoLevel/E250_SetA.Pmumuh2cc.Gwhizard-2_84.eL0.8.pR0.3.18_DST.slcio\"  …  \"/nfs/dust/ilc/user/jstrube/StrangeHiggs/data/RecoLevel/E250_SetA.Pmumuh2cc.Gwhizard-2_84.eL0.8.pR0.3.91_DST.slcio\", \"/nfs/dust/ilc/user/jstrube/StrangeHiggs/data/RecoLevel/E250_SetA.Pmumuh2cc.Gwhizard-2_84.eL0.8.pR0.3.92_DST.slcio\", \"/nfs/dust/ilc/user/jstrube/StrangeHiggs/data/RecoLevel/E250_SetA.Pmumuh2cc.Gwhizard-2_84.eL0.8.pR0.3.93_DST.slcio\", \"/nfs/dust/ilc/user/jstrube/StrangeHiggs/data/RecoLevel/E250_SetA.Pmumuh2cc.Gwhizard-2_84.eL0.8.pR0.3.94_DST.slcio\", \"/nfs/dust/ilc/user/jstrube/StrangeHiggs/data/RecoLevel/E250_SetA.Pmumuh2cc.Gwhizard-2_84.eL0.8.pR0.3.95_DST.slcio\", \"/nfs/dust/ilc/user/jstrube/StrangeHiggs/data/RecoLevel/E250_SetA.Pmumuh2cc.Gwhizard-2_84.eL0.8.pR0.3.96_DST.slcio\", \"/nfs/dust/ilc/user/jstrube/StrangeHiggs/data/RecoLevel/E250_SetA.Pmumuh2cc.Gwhizard-2_84.eL0.8.pR0.3.97_DST.slcio\", \"/nfs/dust/ilc/user/jstrube/StrangeHiggs/data/RecoLevel/E250_SetA.Pmumuh2cc.Gwhizard-2_84.eL0.8.pR0.3.98_DST.slcio\", \"/nfs/dust/ilc/user/jstrube/StrangeHiggs/data/RecoLevel/E250_SetA.Pmumuh2cc.Gwhizard-2_84.eL0.8.pR0.3.99_DST.slcio\", \"/nfs/dust/ilc/user/jstrube/StrangeHiggs/data/RecoLevel/E250_SetA.Pmumuh2cc.Gwhizard-2_84.eL0.8.pR0.3.9_DST.slcio\"]\n",
       " [\"/nfs/dust/ilc/user/jstrube/StrangeHiggs/data/RecoLevel/E250_SetA.Pmumuh2gg.Gwhizard-2_84.eL0.8.pR0.3.0_DST.slcio\", \"/nfs/dust/ilc/user/jstrube/StrangeHiggs/data/RecoLevel/E250_SetA.Pmumuh2gg.Gwhizard-2_84.eL0.8.pR0.3.10_DST.slcio\", \"/nfs/dust/ilc/user/jstrube/StrangeHiggs/data/RecoLevel/E250_SetA.Pmumuh2gg.Gwhizard-2_84.eL0.8.pR0.3.11_DST.slcio\", \"/nfs/dust/ilc/user/jstrube/StrangeHiggs/data/RecoLevel/E250_SetA.Pmumuh2gg.Gwhizard-2_84.eL0.8.pR0.3.12_DST.slcio\", \"/nfs/dust/ilc/user/jstrube/StrangeHiggs/data/RecoLevel/E250_SetA.Pmumuh2gg.Gwhizard-2_84.eL0.8.pR0.3.13_DST.slcio\", \"/nfs/dust/ilc/user/jstrube/StrangeHiggs/data/RecoLevel/E250_SetA.Pmumuh2gg.Gwhizard-2_84.eL0.8.pR0.3.14_DST.slcio\", \"/nfs/dust/ilc/user/jstrube/StrangeHiggs/data/RecoLevel/E250_SetA.Pmumuh2gg.Gwhizard-2_84.eL0.8.pR0.3.15_DST.slcio\", \"/nfs/dust/ilc/user/jstrube/StrangeHiggs/data/RecoLevel/E250_SetA.Pmumuh2gg.Gwhizard-2_84.eL0.8.pR0.3.16_DST.slcio\", \"/nfs/dust/ilc/user/jstrube/StrangeHiggs/data/RecoLevel/E250_SetA.Pmumuh2gg.Gwhizard-2_84.eL0.8.pR0.3.17_DST.slcio\", \"/nfs/dust/ilc/user/jstrube/StrangeHiggs/data/RecoLevel/E250_SetA.Pmumuh2gg.Gwhizard-2_84.eL0.8.pR0.3.18_DST.slcio\"  …  \"/nfs/dust/ilc/user/jstrube/StrangeHiggs/data/RecoLevel/E250_SetA.Pmumuh2gg.Gwhizard-2_84.eL0.8.pR0.3.91_DST.slcio\", \"/nfs/dust/ilc/user/jstrube/StrangeHiggs/data/RecoLevel/E250_SetA.Pmumuh2gg.Gwhizard-2_84.eL0.8.pR0.3.92_DST.slcio\", \"/nfs/dust/ilc/user/jstrube/StrangeHiggs/data/RecoLevel/E250_SetA.Pmumuh2gg.Gwhizard-2_84.eL0.8.pR0.3.93_DST.slcio\", \"/nfs/dust/ilc/user/jstrube/StrangeHiggs/data/RecoLevel/E250_SetA.Pmumuh2gg.Gwhizard-2_84.eL0.8.pR0.3.94_DST.slcio\", \"/nfs/dust/ilc/user/jstrube/StrangeHiggs/data/RecoLevel/E250_SetA.Pmumuh2gg.Gwhizard-2_84.eL0.8.pR0.3.95_DST.slcio\", \"/nfs/dust/ilc/user/jstrube/StrangeHiggs/data/RecoLevel/E250_SetA.Pmumuh2gg.Gwhizard-2_84.eL0.8.pR0.3.96_DST.slcio\", \"/nfs/dust/ilc/user/jstrube/StrangeHiggs/data/RecoLevel/E250_SetA.Pmumuh2gg.Gwhizard-2_84.eL0.8.pR0.3.97_DST.slcio\", \"/nfs/dust/ilc/user/jstrube/StrangeHiggs/data/RecoLevel/E250_SetA.Pmumuh2gg.Gwhizard-2_84.eL0.8.pR0.3.98_DST.slcio\", \"/nfs/dust/ilc/user/jstrube/StrangeHiggs/data/RecoLevel/E250_SetA.Pmumuh2gg.Gwhizard-2_84.eL0.8.pR0.3.99_DST.slcio\", \"/nfs/dust/ilc/user/jstrube/StrangeHiggs/data/RecoLevel/E250_SetA.Pmumuh2gg.Gwhizard-2_84.eL0.8.pR0.3.9_DST.slcio\"]"
      ]
     },
     "execution_count": 126,
     "metadata": {},
     "output_type": "execute_result"
    }
   ],
   "source": [
    "fileList_ss = filter(s->occursin(r\"E250_SetA.Pmumuh2ss.Gwhizard-2_84.eL0.8\\.pR0.3\\..*_DST.slcio\", s), readdir(\"/nfs/dust/ilc/user/jstrube/StrangeHiggs/data/RecoLevel\", join=true))\n",
    "\n",
    "fileList_bb = filter(s->occursin(r\"E250_SetA.Pmumuh2bb.Gwhizard-2_84.eL0.8\\.pR0.3\\..*_DST.slcio\", s), readdir(\"/nfs/dust/ilc/user/jstrube/StrangeHiggs/data/RecoLevel\", join=true))\n",
    "\n",
    "fileList_cc = filter(s->occursin(r\"E250_SetA.Pmumuh2cc.Gwhizard-2_84.eL0.8\\.pR0.3\\..*_DST.slcio\", s), readdir(\"/nfs/dust/ilc/user/jstrube/StrangeHiggs/data/RecoLevel\", join=true))\n",
    "\n",
    "fileList_gg = filter(s->occursin(r\"E250_SetA.Pmumuh2gg.Gwhizard-2_84.eL0.8\\.pR0.3\\..*_DST.slcio\", s), readdir(\"/nfs/dust/ilc/user/jstrube/StrangeHiggs/data/RecoLevel\", join=true))\n",
    "\n",
    "print(\"ss has \")\n",
    "print(length(fileList_ss))\n",
    "print(\" files, bb has \")\n",
    "print(length(fileList_bb))\n",
    "print(\" files, cc has \")\n",
    "print(length(fileList_cc))\n",
    "print(\" files, gg has \")\n",
    "print(length(fileList_gg))\n",
    "print(\" files\")\n",
    "sampleList=[fileList_ss, fileList_bb, fileList_cc, fileList_gg]"
   ]
  },
  {
   "cell_type": "code",
   "execution_count": 127,
   "metadata": {},
   "outputs": [
    {
     "data": {
      "text/plain": [
       "1-element Array{Symbol,1}:\n",
       " :efficiencyList"
      ]
     },
     "execution_count": 127,
     "metadata": {},
     "output_type": "execute_result"
    }
   ],
   "source": [
    "@load \"FalsePosIndex\"\n",
    "@load \"NoParents\"\n",
    "@load \"RecoPDG\"\n",
    "@load \"DifferenceList\"\n",
    "@load \"nEvents\"\n",
    "@load \"Purity\"\n",
    "@load \"Efficiencies\""
   ]
  },
  {
   "cell_type": "code",
   "execution_count": 60,
   "metadata": {},
   "outputs": [
    {
     "data": {
      "text/plain": [
       "recoil_mass (generic function with 1 method)"
      ]
     },
     "execution_count": 60,
     "metadata": {},
     "output_type": "execute_result"
    }
   ],
   "source": [
    "function jetConstituentP(constituent)\n",
    "    a=FastJet.px(constituent)::Float64\n",
    "    b=FastJet.py(constituent)::Float64\n",
    "    c=FastJet.pz(constituent)::Float64\n",
    "    return (a,b,c)\n",
    "end\n",
    "\n",
    "function leadingParticleIndex(jet)\n",
    "    momentumList = []\n",
    "    highestMomentum = 0\n",
    "    nCon = 0\n",
    "    index = 0\n",
    "    for c in constituents(jet)\n",
    "        nCon+=1\n",
    "        p=jetConstituentP(c)\n",
    "        if dot(p, p)>highestMomentum\n",
    "            highestMomentum=dot(p, p)\n",
    "            index=nCon\n",
    "        end\n",
    "    end\n",
    "    return index\n",
    "end\n",
    "\n",
    "function invMassSum(particle_1, particle_2)\n",
    "    a = sqrt((getEnergy(particle_1)+getEnergy(particle_2))^2-\n",
    "        dot(getMomentum(particle_1)+getMomentum(particle_2),\n",
    "            getMomentum(particle_1)+getMomentum(particle_2)))\n",
    "    return a\n",
    "end\n",
    "\n",
    "function recoil_mass(μ₁, μ₂)\n",
    "    E_initial = 250.0  #can update to make it accurate for the event's flucation, with p as well?\n",
    "    px_initial = 0.0\n",
    "    recoilE = E_initial - getEnergy(μ₁) - getEnergy(μ₂)\n",
    "    recoilP = [px_initial, 0, 0] - getMomentum(μ₁) - getMomentum(μ₂)\n",
    "    return sqrt(recoilE^2 - sum(recoilP.^2))\n",
    "end"
   ]
  },
  {
   "cell_type": "code",
   "execution_count": 134,
   "metadata": {},
   "outputs": [
    {
     "data": {
      "text/plain": [
       "trueZMuonFinder (generic function with 1 method)"
      ]
     },
     "execution_count": 134,
     "metadata": {},
     "output_type": "execute_result"
    }
   ],
   "source": [
    "function zMuonIndices(event, threshold, MCTruth=false) #for certain events it returns an empty candidatePairs\n",
    "    \n",
    "    iParticle = 0\n",
    "    posMuonList = []\n",
    "    negMuonList = []\n",
    "    \n",
    "    if MCTruth==false\n",
    "        collection = getCollection(event, \"PandoraPFOs\")\n",
    "        for particle in collection\n",
    "            iParticle += 1\n",
    "            if abs(getType(particle))==13 #&& getGeneratorStatus(particle)==1 #assuming all pfos are final state\n",
    "                if getCharge(particle)==1\n",
    "                    push!(posMuonList, (particle, iParticle))\n",
    "                elseif getCharge(particle)==-1\n",
    "                    push!(negMuonList, (particle, iParticle))\n",
    "                end\n",
    "            end\n",
    "        end\n",
    "        \n",
    "    elseif MCTruth==true\n",
    "        collection = getCollection(event, \"MCParticle\")\n",
    "        for particle in collection\n",
    "            iParticle += 1\n",
    "            if abs(getPDG(particle))==13 && getGeneratorStatus(particle)==1\n",
    "                if getCharge(particle)==1\n",
    "                    push!(posMuonList, (particle, iParticle))\n",
    "                elseif getCharge(particle)==-1\n",
    "                    push!(negMuonList, (particle, iParticle))\n",
    "                end\n",
    "            end\n",
    "        end      \n",
    "    end\n",
    "\n",
    "    \n",
    "    candidatePair=[]\n",
    "    \n",
    "    candidateDiff=91.187\n",
    "    for item_pos in posMuonList    \n",
    "        posParticle = item_pos[1]\n",
    "        for item_neg in negMuonList\n",
    "            negParticle = item_neg[1]\n",
    "            if abs(91.187-invMassSum(posParticle, negParticle))<abs(candidateDiff)\n",
    "                candidateDiff=91.187-invMassSum(posParticle, negParticle)\n",
    "                candidatePair=[item_pos, item_neg]\n",
    "            end\n",
    "        end\n",
    "    end\n",
    "    \n",
    "    if abs(candidateDiff)>threshold\n",
    "        indices=[0,0]\n",
    "    elseif length(candidatePair)>0\n",
    "        indices = [candidatePair[1][2], candidatePair[2][2]]\n",
    "    end\n",
    "    return indices\n",
    "end\n",
    "\n",
    "function trueZMuonFinder(event)\n",
    "    \n",
    "    nZ=0\n",
    "    muons=[]\n",
    "    mcCollection = getCollection(event, \"MCParticle\")\n",
    "    for (iParticle, particle) in enumerate(mcCollection)\n",
    "        if abs(getPDG(particle))==13 && getGeneratorStatus(particle)==1\n",
    "            muonParent=false\n",
    "            for parent in getParents(particle)\n",
    "                if abs(getPDG(parent))==13 \n",
    "                    push!(muons, parent)\n",
    "                end\n",
    "            end\n",
    "        end\n",
    "    end\n",
    "    return muons\n",
    "end\n",
    "        "
   ]
  },
  {
   "cell_type": "markdown",
   "metadata": {},
   "source": [
    "To Do:\\\n",
    "Normalize plots?\\\n",
    "Dont use getRelatedTooObjects for Reco - for pdg use abs(getType(pfo)==13)\\\n",
    "Check efficiencies of only one muon\\\n",
    "Dont require 2 MC Muons for efficiency calc\\\n",
    "Look at efficiencies with a difference z threshold\\\n",
    "Create a function for getting true z daughters\\"
   ]
  },
  {
   "cell_type": "code",
   "execution_count": 137,
   "metadata": {},
   "outputs": [
    {
     "name": "stdout",
     "output_type": "stream",
     "text": [
      ":(:(0.9980099502487562 0.0 0.6686567164179105 0.0 1.0  3.957511 seconds (2.11 M allocations: 65.710 MiB)\n"
     ]
    }
   ],
   "source": [
    "@time for sample in [fileList_ss]\n",
    "    iFile=0\n",
    "    recoPDG=[]\n",
    "    falsePosEventIndexList=[]\n",
    "    zMuonPurityList=[]\n",
    "    perFilePurity=[]\n",
    "    noParentIndexList=[]\n",
    "    perFileNoParents=[]\n",
    "    perSampleRecoMuonMassList = []\n",
    "    perSampleMcMuonMassList = []\n",
    "    perSampleDifferenceList = []\n",
    "    perSampleRecoilMass = []\n",
    "    nEvents=0\n",
    "    nZ=0\n",
    "    nEfficient=0\n",
    "    baseEfficient=0\n",
    "    for FILENAME in sample\n",
    "        iFile+=1\n",
    "        if iFile>5\n",
    "            break\n",
    "        end\n",
    "        LCIO.open(FILENAME) do reader\n",
    "            iEvent=0\n",
    "            nFalsePos=0\n",
    "            nNoParents=0\n",
    "            falsePos=true\n",
    "            missingRecoMuon=false\n",
    "            for event in reader\n",
    "                iEvent+=1\n",
    "                nEvents+=1\n",
    "                if iEvent>200\n",
    "                    break\n",
    "                end   \n",
    "                RP_zMuonIndex=zMuonIndices(event, 50)\n",
    "            \n",
    "                mcMuons=trueZMuonFinder(event)\n",
    "                if length(mcMuons)>0\n",
    "                    nZ+=1\n",
    "                end\n",
    "                \n",
    "                rpCollection = getCollection(event, \"PandoraPFOs\")\n",
    "                recoLinks = getCollection(event, \"RecoMCTruthLink\")\n",
    "                rel = LCIO.LCRelationNavigator(recoLinks)\n",
    "                #mcLinks = getCollection(event, \"MCTruthRecoLink\")\n",
    "                #mcRel = LCIO.LCRelationNavigator(mcLinks)\n",
    "                recoMuons=[]\n",
    "    #            if iEvent==5 && iFile==2\n",
    "     #               for (iParticle, particle) in enumerate(rpCollection)\n",
    "      #                  mcp = getRelatedToObjects(rel, particle)\n",
    "       #                 if length(mcp)>0\n",
    "        #                    MCParticle=mcp[1]\n",
    "         #               else\n",
    "          #                  continue\n",
    "           #             end\n",
    "            #            print(getPDG(MCParticle))\n",
    "             #           print(\" \")\n",
    "              #      end\n",
    "               # end\n",
    "                \n",
    "                for (iParticle, particle) in enumerate(rpCollection)\n",
    "                    if iParticle in RP_zMuonIndex\n",
    "                        push!(recoMuons, particle)\n",
    "                    end\n",
    "                end\n",
    "                \n",
    "                for rpMuon in recoMuons\n",
    "                    mcp = getRelatedToObjects(rel, rpMuon)\n",
    "                    if length(mcp)>0\n",
    "                        MCParticle=mcp[1]\n",
    "                    else\n",
    "                        continue\n",
    "                    end\n",
    "                    for MCP in mcp\n",
    "                        for parent in getParents(MCP)\n",
    "                            if abs(getPDG(parent))==13\n",
    "                                falsePos=false\n",
    "                            end\n",
    "                        end\n",
    "                    end\n",
    "                end\n",
    "                \n",
    "                for mcMuon in mcMuons\n",
    "                    RP=getRelatedFromObjects(rel, mcMuon)\n",
    "                    if length(RP)==0\n",
    "                        if iEvent==2 && iFile==2\n",
    "                            print(\":(\")\n",
    "                        end\n",
    "                        missingRecoMuon=true\n",
    "                    end\n",
    "                end\n",
    "            \n",
    "                \n",
    "                if length(recoMuons)==2\n",
    "                    nEfficient+=1\n",
    "                    push!(perSampleRecoilMass, recoil_mass(recoMuons[1], recoMuons[2]))\n",
    "                    if length(mcMuons)==2\n",
    "                        push!(perSampleDifferenceList, \n",
    "                            invMassSum(recoMuons[1], recoMuons[2])-invMassSum(mcMuons[1], mcMuons[2]))\n",
    "                    end\n",
    "                end\n",
    "                \n",
    "                if falsePos==true\n",
    "                   nFalsePos+=1\n",
    "                end\n",
    "                if missingRecoMuon==false\n",
    "                    baseEfficient+=1\n",
    "                end\n",
    "            end\n",
    "            push!(perFilePurity, 1-nFalsePos/iEvent)\n",
    "            push!(perFileNoParents, nNoParents/iEvent)\n",
    "        end\n",
    "    end\n",
    "    print(mean(perFilePurity))\n",
    "    print(\" \")\n",
    "    print(mean(perFileNoParents))\n",
    "    print(\" \")\n",
    "    print(nEfficient/nEvents)\n",
    "    print(\" \")\n",
    "    print(baseEfficient/nEvents)\n",
    "    print(\" \")\n",
    "    print(length(perSampleRecoilMass)/length(perSampleDifferenceList))\n",
    "end\n"
   ]
  },
  {
   "cell_type": "code",
   "execution_count": 14,
   "metadata": {
    "scrolled": true
   },
   "outputs": [
    {
     "name": "stdout",
     "output_type": "stream",
     "text": [
      "Dict{Any,Any}(\"ss\" => 1.0,\"bb\" => 1.0,\"gg\" => 1.0,\"cc\" => 1.0)"
     ]
    }
   ],
   "source": [
    "print(perSamplePurity)"
   ]
  },
  {
   "cell_type": "code",
   "execution_count": 15,
   "metadata": {},
   "outputs": [
    {
     "name": "stdout",
     "output_type": "stream",
     "text": [
      "Dict{Any,Any}(\"ss\" => 0.0,\"bb\" => 0.0,\"gg\" => 0.0,\"cc\" => 0.0)"
     ]
    }
   ],
   "source": [
    "print(perSampleNoParents)"
   ]
  },
  {
   "cell_type": "code",
   "execution_count": 16,
   "metadata": {},
   "outputs": [
    {
     "name": "stdout",
     "output_type": "stream",
     "text": [
      "Dict{Any,Any}(\"ss\" => 0.6253989637305699,\"bb\" => 0.626544502617801,\"gg\" => 0.62194,\"cc\" => 0.6249119170984456)"
     ]
    }
   ],
   "source": [
    "print(efficiencyList)"
   ]
  },
  {
   "cell_type": "code",
   "execution_count": 112,
   "metadata": {},
   "outputs": [
    {
     "ename": "LoadError",
     "evalue": "syntax: extra token \"0.0\" after end of expression",
     "output_type": "error",
     "traceback": [
      "syntax: extra token \"0.0\" after end of expression",
      ""
     ]
    }
   ],
   "source": [
    "0.9980099502487562 0.0 0.6746268656716418 0.9950248756218906  4.151472 seconds (2.12 M allocations: 64.998 MiB, 2.15% gc time)"
   ]
  },
  {
   "cell_type": "code",
   "execution_count": null,
   "metadata": {},
   "outputs": [],
   "source": [
    "0.9980099502487562 0.0 0.690547263681592 0.9950248756218906  4.396963 seconds (2.34 M allocations: 72.042 MiB)"
   ]
  }
 ],
 "metadata": {
  "kernelspec": {
   "display_name": "Julia 1.4.2",
   "language": "julia",
   "name": "julia-1.4"
  },
  "language_info": {
   "file_extension": ".jl",
   "mimetype": "application/julia",
   "name": "julia",
   "version": "1.4.2"
  }
 },
 "nbformat": 4,
 "nbformat_minor": 4
}
