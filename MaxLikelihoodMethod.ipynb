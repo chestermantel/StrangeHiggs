{
 "cells": [
  {
   "cell_type": "code",
   "execution_count": null,
   "metadata": {},
   "outputs": [],
   "source": [
    "using Distributions\n",
    "using JLD2\n",
    "using LCIO\n",
    "using LinearAlgebra\n",
    "using StatsPlots"
   ]
  },
  {
   "cell_type": "code",
   "execution_count": null,
   "metadata": {},
   "outputs": [],
   "source": [
    "@load (\"TOFsspion\") TOFsspion\n",
    "@load (\"TOFsskaon\") TOFsskaon\n",
    "@load (\"Momvecsspion\") Momvecsspion\n",
    "@load (\"Momvecsskaon\") Momvecsskaon"
   ]
  },
  {
   "cell_type": "code",
   "execution_count": null,
   "metadata": {},
   "outputs": [],
   "source": [
    "function findTOFpion(Momvec)\n",
    "    costheta = Momvec[3]/norm(Momvec)\n",
    "    energy = sqrt((norm(Momvec))^2+(.13957)^2)\n",
    "    v = norm(Momvec)/energy\n",
    "    if costheta < 1657.0/2084.68\n",
    "        v_transverse = v*sqrt((1-costheta*costheta))\n",
    "        p_transverse = norm(Momvec)*sqrt((1-costheta*costheta))\n",
    "        R = p_transverse/(5*(1.602*10^(-19)))\n",
    "        d = 1.25\n",
    "        s = 2*R*asin(d/(2*R))\n",
    "        mean = s/v_transverse\n",
    "        println(mean)\n",
    "        return Normal(mean, 1)\n",
    "    else\n",
    "        mean = 1657.0/(costheta*v)\n",
    "        println(mean)\n",
    "        return Normal(mean, 1)\n",
    "    end\n",
    "end\n",
    "function findTOFkaon(Momvec)\n",
    "    costheta = Momvec[3]/norm(Momvec)\n",
    "    energy = sqrt((norm(Momvec))^2+(.493677)^2)\n",
    "    v = norm(Momvec)/energy\n",
    "    if costheta < 1657.0/2084.68\n",
    "        v_transverse = v*sqrt((1-costheta*costheta))\n",
    "        p_transverse = norm(Momvec)*sqrt((1-costheta*costheta))\n",
    "        R = p_transverse/(5*(1.602*10^(-19)))\n",
    "        d = 1.25\n",
    "        s = 2*R*asin(d/(2*R))\n",
    "        mean = s/v_transverse\n",
    "        println(mean)\n",
    "        return Normal(mean, 1)\n",
    "    else\n",
    "        mean = 1657.0/(costheta*v)\n",
    "        println(mean)\n",
    "        return Normal(mean, 1)\n",
    "    end\n",
    "end"
   ]
  },
  {
   "cell_type": "code",
   "execution_count": null,
   "metadata": {},
   "outputs": [],
   "source": [
    "#testing kaon likelihoods\n",
    "Distpion = 0\n",
    "Distkaon = 0\n",
    "kaonlikelihoods = Float64[]\n",
    "for x in 1:length(Momvecsskaon)\n",
    "    Distpion = findTOFpion(Momvecsskaon[x])\n",
    "    L_p = pdf(Distpion,TOFsskaon[x])\n",
    "    Distkaon = findTOFkaon(Momvecsskaon[x])\n",
    "    L_k = pdf(Distkaon, TOFsskaon[x])\n",
    "    kaon_likelihood = L_k/(L_k+L_p)\n",
    "    push!(kaonlikelihoods, kaon_likelihood)\n",
    "end"
   ]
  },
  {
   "cell_type": "code",
   "execution_count": null,
   "metadata": {},
   "outputs": [],
   "source": [
    "histogram(kaonlikelihoods)"
   ]
  }
 ],
 "metadata": {
  "kernelspec": {
   "display_name": "Julia 1.4.2",
   "language": "julia",
   "name": "julia-1.4"
  },
  "language_info": {
   "file_extension": ".jl",
   "mimetype": "application/julia",
   "name": "julia",
   "version": "1.4.2"
  }
 },
 "nbformat": 4,
 "nbformat_minor": 2
}
