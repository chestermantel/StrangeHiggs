{
 "cells": [
  {
   "cell_type": "code",
   "execution_count": 1,
   "metadata": {},
   "outputs": [
    {
     "name": "stderr",
     "output_type": "stream",
     "text": [
      "┌ Info: Precompiling StatsPlots [f3b207a7-027a-5e70-b257-86293d7955fd]\n",
      "└ @ Base loading.jl:1260\n"
     ]
    }
   ],
   "source": [
    "using LaTeXStrings\n",
    "using StatsPlots\n",
    "using DataTables\n",
    "pyplot()\n",
    "using StatsBase\n",
    "using Corpuscles\n",
    "using UnicodeFun\n",
    "using FastJet\n",
    "using CxxWrap: StdVector\n",
    "using LCIO\n",
    "using LinearAlgebra\n",
    "#gr()\n",
    "#theme(:gruvbox_dark)"
   ]
  },
  {
   "cell_type": "code",
   "execution_count": 37,
   "metadata": {},
   "outputs": [],
   "source": [
    "#using Pkg; Pkg.build(\"FastJet\")\n",
    "#using Pkg; Pkg.build(\"LCIO\")"
   ]
  },
  {
   "cell_type": "markdown",
   "metadata": {},
   "source": [
    "Set A: \n",
    "Processes: Pmumuh2bb, Pmumuh2cc, Pmumuh2gg\n",
    "\"0_DST\" > \".*_DST\""
   ]
  },
  {
   "cell_type": "code",
   "execution_count": 2,
   "metadata": {},
   "outputs": [
    {
     "data": {
      "text/plain": [
       "invMassSum (generic function with 1 method)"
      ]
     },
     "execution_count": 2,
     "metadata": {},
     "output_type": "execute_result"
    }
   ],
   "source": [
    "function jetConstituentP(constituent)\n",
    "    a=FastJet.px(constituent)::Float64\n",
    "    b=FastJet.py(constituent)::Float64\n",
    "    c=FastJet.pz(constituent)::Float64\n",
    "    return (a,b,c)\n",
    "end\n",
    "\n",
    "function leadingParticleIndex(jet)\n",
    "    momentumList = []\n",
    "    highestMomentum = 0\n",
    "    nCon = 0\n",
    "    index = 0\n",
    "    for c in constituents(jet)\n",
    "        nCon+=1\n",
    "        p=jetConstituentP(c)\n",
    "        if dot(p, p)>highestMomentum\n",
    "            highestMomentum=dot(p, p)\n",
    "            index=nCon\n",
    "        end\n",
    "    end\n",
    "    return index\n",
    "end\n",
    "\n",
    "function invMassSum(particle_1, particle_2)\n",
    "    a = sqrt((getEnergy(particle_1)+getEnergy(particle_2))^2-\n",
    "        dot(getMomentum(particle_1)+getMomentum(particle_2),\n",
    "            getMomentum(particle_1)+getMomentum(particle_2)))\n",
    "    return a\n",
    "end\n",
    "\n",
    "#can use a sort function where the key to sort on is dot(p, p)"
   ]
  },
  {
   "cell_type": "code",
   "execution_count": 39,
   "metadata": {},
   "outputs": [],
   "source": [
    "#fileList = filter(s->occursin(r\"dump.slcio\", s), readdir(\"/nfs/dust/ilc/user/jstrube/StrangeHiggs/data\", join=true))"
   ]
  },
  {
   "cell_type": "markdown",
   "metadata": {},
   "source": [
    "Strange Events"
   ]
  },
  {
   "cell_type": "code",
   "execution_count": 3,
   "metadata": {},
   "outputs": [
    {
     "name": "stdout",
     "output_type": "stream",
     "text": [
      "BuildUpVertices\n",
      "BuildUpVertices_RP\n",
      "BuildUpVertices_V0\n",
      "BuildUpVertices_V0_RP\n",
      "BuildUpVertices_V0_res\n",
      "BuildUpVertices_V0_res_RP\n",
      "BuildUpVertices_res\n",
      "BuildUpVertices_res_RP\n",
      "ECalBarrelHits\n",
      "ECalEndcapHits\n",
      "MCParticle\n",
      "PandoraClusters\n",
      "PandoraPFANewStartVertices\n",
      "PandoraPFOs\n",
      "PrimaryVertices\n",
      "PrimaryVertices_RP\n",
      "PrimaryVertices_res\n",
      "PrimaryVertices_res_RP\n",
      "RecoMCTruthLink\n",
      "RefinedVertexJets\n",
      "RefinedVertexJets_rel\n",
      "RefinedVertexJets_vtx\n",
      "RefinedVertexJets_vtx_RP\n",
      "RefinedVertices\n",
      "RefinedVertices_RP\n",
      "VertexJets\n"
     ]
    }
   ],
   "source": [
    "fileList_ss = filter(s->occursin(r\"E250_SetA.Pmumuh2ss.Gwhizard-2_84.eL0.8\\.pR0.3\\.0_DST.slcio\", s), readdir(\"/nfs/dust/ilc/user/jstrube/StrangeHiggs/data/RecoLevel\", join=true))\n",
    "\n",
    "#fileList = filter(s->occursin(r\"dump.slcio\", s), readdir(\"/nfs/dust/ilc/user/jstrube/StrangeHiggs/data\", join=true))\n",
    "\n",
    "LCIO.open(fileList_ss[1]) do reader\n",
    "    for (iEvent, event) in enumerate(reader)\n",
    "        for name in getCollectionNames(event)\n",
    "            println(name)\n",
    "        end\n",
    "        break\n",
    "    end\n",
    "end"
   ]
  },
  {
   "cell_type": "code",
   "execution_count": 4,
   "metadata": {},
   "outputs": [
    {
     "name": "stdout",
     "output_type": "stream",
     "text": [
      "#--------------------------------------------------------------------------\n",
      "#                         FastJet release 3.3.4\n",
      "#                 M. Cacciari, G.P. Salam and G. Soyez                  \n",
      "#     A software package for jet finding and analysis at colliders      \n",
      "#                           http://fastjet.fr                           \n",
      "#\t                                                                      \n",
      "# Please cite EPJC72(2012)1896 [arXiv:1111.6097] if you use this package\n",
      "# for scientific work and optionally PLB641(2006)57 [hep-ph/0512210].   \n",
      "#                                                                       \n",
      "# FastJet is provided without warranty under the GNU GPL v2 or higher.  \n",
      "# It uses T. Chan's closest pair algorithm, S. Fortune's Voronoi code\n",
      "# and 3rd party plugin jet algorithms. See COPYING file for details.\n",
      "#--------------------------------------------------------------------------\n"
     ]
    }
   ],
   "source": [
    "ss_MCleadPDG = []\n",
    "ss_MCleadingParticlePList = []\n",
    "ss_PFOleadPDG = []\n",
    "ss_PFOleadingParticlePList = []\n",
    "ss_kShortInPiPiEventList_MC = []\n",
    "ss_kShortInPiPiEventList_PFO = []\n",
    "ss_lambdaInProtonEventList_MC = []\n",
    "ss_lambdaInProtonEventList_PFO = []\n",
    "\n",
    "vp = FastJet.ValenciaPlugin(1.2, 0.8)\n",
    "jet_def = JetDefinition(vp)\n",
    "\n",
    "for FILENAME in fileList_ss\n",
    "    LCIO.open(FILENAME) do reader\n",
    "        for (iEvent, event) in enumerate(reader)\n",
    "            \n",
    "            #recoLinks = getCollection(event, \"RecoMCTruthLink\")\n",
    "            \n",
    "            #This is the Jet Clustering Loop for MCParticles\n",
    "            mcp = getCollection(event, \"MCParticle\")\n",
    "            iMCParticle = 0\n",
    "            MCparticles = PseudoJet[]\n",
    "            for MCparticle in mcp\n",
    "                iMCParticle += 1\n",
    "                if getGeneratorStatus(MCparticle) != 1\n",
    "                    continue\n",
    "                end\n",
    "                E = getEnergy(MCparticle)\n",
    "                p = getMomentum(MCparticle)\n",
    "                pj=PseudoJet(p[1], p[2], p[3], E)\n",
    "                set_user_index(pj, iMCParticle)\n",
    "                push!(MCparticles, pj)\n",
    "            end\n",
    "            MCcs = ClusterSequence(StdVector(MCparticles), jet_def)\n",
    "            MCjets = exclusive_jets(MCcs, 2)\n",
    "            nMCJet=0\n",
    "            for j in MCjets\n",
    "                nMCJet+=1\n",
    "                nCon=0\n",
    "                jetTotalMomentum=(0,0,0)\n",
    "                leadMomentum = 0\n",
    "                for c in constituents(j)\n",
    "                    nCon+=1\n",
    "                    index=FastJet.user_index(c)\n",
    "                    if nCon==1\n",
    "                        jetTotalMomentum=jetConstituentP(c)\n",
    "                    elseif nCon>1\n",
    "                        jetTotalMomentum=jetTotalMomentum.+jetConstituentP(c)\n",
    "                    end\n",
    "                    if nCon==leadingParticleIndex(j)\n",
    "                        leadMomentum = sqrt(dot((FastJet.px(c), FastJet.py(c), FastJet.pz(c)),\n",
    "                            (FastJet.px(c), FastJet.py(c), FastJet.pz(c)))+10^(-10))\n",
    "                        MCParticle = mcp[index]\n",
    "                        pdg=getPDG(MCParticle)\n",
    "                        if abs(pdg)==13\n",
    "                            continue\n",
    "                        end\n",
    "                        if abs(pdg)==211\n",
    "                            for parent in getParents(MCParticle)\n",
    "                                if abs(getPDG(parent))==130\n",
    "                                    push!(ss_kShortInPiPiEventList_MC, iEvent)\n",
    "                                end\n",
    "                            end\n",
    "                        end\n",
    "                        if abs(pdg)==2212\n",
    "                            for parent in getParents(MCParticle)\n",
    "                                if abs(getPDG(parent))==3312\n",
    "                                    push!(ss_lambdaInProtonEventList_MC, iEvent)\n",
    "                                end\n",
    "                            end\n",
    "                        end\n",
    "                        push!(ss_MCleadPDG, pdg)\n",
    "                    end\n",
    "                end\n",
    "            end\n",
    "            if FastJet.n_particles(MCcs)<0\n",
    "                print(\"你好！\")\n",
    "            end\n",
    "            #reconstructed particle loop\n",
    "            rp = getCollection(event, \"PandoraPFOs\")\n",
    "            recoLinks = getCollection(event, \"RecoMCTruthLink\")\n",
    "            rel=LCIO.LCRelationNavigator(recoLinks)\n",
    "            iRPParticle = 0\n",
    "            #大家好，如果你会读懂，我想告诉你很重要的事：加油！\n",
    "            RPparticles = PseudoJet[]\n",
    "            for RPparticle in rp\n",
    "                iRPParticle += 1\n",
    "                #if getGeneratorStatus(RPparticle) != 1\n",
    "                #    continue\n",
    "                #end\n",
    "                E = getEnergy(RPparticle)\n",
    "                p = getMomentum(RPparticle)\n",
    "                pj=PseudoJet(p[1], p[2], p[3], E)\n",
    "                set_user_index(pj, iRPParticle)\n",
    "                push!(RPparticles, pj)\n",
    "            end\n",
    "            RPcs = ClusterSequence(StdVector(RPparticles), jet_def)\n",
    "            RPjets = exclusive_jets(RPcs, 2)\n",
    "            nRPJet=0\n",
    "            for j in RPjets\n",
    "                nRPJet+=1\n",
    "                nCon=0\n",
    "                jetTotalMomentum=(0,0,0)\n",
    "                leadMomentum = 0\n",
    "                for c in constituents(j)\n",
    "                    nCon+=1\n",
    "                    index=FastJet.user_index(c)\n",
    "                    if nCon==1\n",
    "                        jetTotalMomentum=jetConstituentP(c)\n",
    "                    elseif nCon>1\n",
    "                        jetTotalMomentum=jetTotalMomentum.+jetConstituentP(c)\n",
    "                    end\n",
    "                    if nCon==leadingParticleIndex(j)\n",
    "                        leadMomentum = sqrt(dot((FastJet.px(c), FastJet.py(c), FastJet.pz(c)),\n",
    "                            (FastJet.px(c), FastJet.py(c), FastJet.pz(c)))+10^(-10))\n",
    "                        RP = rp[index]\n",
    "                        mcpList = getRelatedToObjects(rel, RP)\n",
    "                        if length(mcpList)>0\n",
    "                            pdg=getPDG(mcpList[1])\n",
    "                            if abs(pdg)==13\n",
    "                                continue\n",
    "                            end\n",
    "                            if abs(pdg)==211\n",
    "                                for parent in getParents(mcpList[1])\n",
    "                                    if abs(getPDG(parent))==130\n",
    "                                        push!(ss_kShortInPiPiEventList_PFO, iEvent)\n",
    "                                    end\n",
    "                                end\n",
    "                            end\n",
    "                            push!(ss_PFOleadPDG, pdg)\n",
    "                            if abs(pdg)==2212\n",
    "                                for parent in getParents(mcpList[1])\n",
    "                                    if abs(getPDG(parent))==3312\n",
    "                                        push!(ss_lambdaInProtonEventList_PFO, iEvent)\n",
    "                                    end\n",
    "                                end\n",
    "                            end\n",
    "                        end\n",
    "                        #invMassRP = sqrt(getEnergy(RP)^2+leadMomentum^2)\n",
    "                        #push!(PFOleadPDG, invMassRP)\n",
    "                    end\n",
    "                end\n",
    "            end\n",
    "            if FastJet.n_particles(RPcs)<0\n",
    "                print(\"你好！\")\n",
    "            end\n",
    "        end\n",
    "    end\n",
    "end"
   ]
  },
  {
   "cell_type": "code",
   "execution_count": null,
   "metadata": {},
   "outputs": [],
   "source": []
  },
  {
   "cell_type": "markdown",
   "metadata": {},
   "source": [
    "Produce figure with MC Particle and Pandora PFO breakdown for all 4 event types\\\n",
    "-Remove muon from everything\\\n",
    "-2 jets\\\n",
    "-Check if theres a K short in the pi pi highest particle events\\\n",
    "-If proton, check if lambda 0\\\n",
    "-just make a dictionary where name maps to value\\\n",
    "Run Z reco over MCParticle & PandoraPFO, compare"
   ]
  },
  {
   "cell_type": "code",
   "execution_count": 5,
   "metadata": {
    "scrolled": false
   },
   "outputs": [
    {
     "data": {
      "image/png": "[encoded data removed]"
     },
     "execution_count": 5,
     "metadata": {},
     "output_type": "execute_result"
    }
   ],
   "source": [
    "ss_MC_y=ss_MCleadPDG\n",
    "ss_MC_u=sort(unique(ss_MC_y))\n",
    "ss_MC_d=Dict([(i,count(x->x==i,ss_MC_y)) for i in ss_MC_u])\n",
    "ss_MC_vals = [ss_MC_d[i] for i in ss_MC_u]\n",
    "ss_MC_Names=[]\n",
    "for key in ss_MC_u\n",
    "    push!(ss_MC_Names, latexstring(Particle(convert(Int64, key)).latex))\n",
    "end\n",
    "StatsPlots.bar(ss_MC_Names, ss_MC_vals, ylabel=\"Frequency\", title=\"Highest Momentum in Jet Particle Types - MC Particle\", legend=false)\n",
    "#print(latex)\n",
    "#print(to_latex(printed_latex[1]))\n",
    "#print(edit_latex)\n",
    "#print(numbers)\n",
    "#numbers = [\"$(ss_MC_u[i])\" for i in 1:length(ss_MC_u)]\n",
    "\n",
    "#StatsPlots.savefig(\"ss_MCleadParticle.pdf\")\n",
    "#Names = Dict(-11 => \"e^{+}\",211 => \"\\\\pi^{+}\",11 => \"e^{-}\",2212 => \"p\",-2212 => \"p\",-211 => \"\\\\pi^{-}\",130 => \"K_{l}^{0}\",321 => \"K^{+}\",22 => \"\\\\gamma\",2112 => \"n\",-321 => \"K^{-}\",-2112 => \"\\\\barn\",-13 => \"\\\\mu^{+}\", 13 => \"\\\\mu^{-}\",-14 => \"\\\\overbarv_{u}\")"
   ]
  },
  {
   "cell_type": "code",
   "execution_count": 6,
   "metadata": {},
   "outputs": [
    {
     "name": "stdout",
     "output_type": "stream",
     "text": [
      "Any[L\"$\\bar{\\Xi}^{0}$\", L\"$\\bar{\\Xi}^{+}$\", L\"$\\bar{\\Sigma}^{-}$\", L\"$\\bar{\\Lambda}$\", L\"$\\bar{\\Sigma}^{+}$\", L\"$\\bar{p}$\", L\"$\\bar{n}$\", L\"$K^{-}$\", L\"$\\pi^{-}$\", L\"$e^{+}$\", L\"$e^{-}$\", L\"$\\gamma$\", L\"$K_{L}^{0}$\", L\"$\\pi^{+}$\", L\"$K_{S}^{0}$\", L\"$K^{+}$\", L\"$n$\", L\"$p$\", L\"$\\Sigma^{-}$\", L\"$\\Lambda$\", L\"$\\Sigma^{+}$\", L\"$\\Xi^{-}$\", L\"$\\Xi^{0}$\"]"
     ]
    },
    {
     "data": {
      "image/png": "[encoded data removed]"
     },
     "execution_count": 6,
     "metadata": {},
     "output_type": "execute_result"
    }
   ],
   "source": [
    "ss_RP_y=ss_PFOleadPDG\n",
    "ss_RP_u=sort(unique(ss_RP_y))\n",
    "ss_RP_d=Dict([(i,count(x->x==i,ss_RP_y)) for i in ss_RP_u])\n",
    "ss_RP_vals = [ss_RP_d[i] for i in ss_RP_u]\n",
    "ss_RP_Names=[]\n",
    "for key in ss_RP_u\n",
    "    push!(ss_RP_Names, latexstring(Particle(convert(Int64, key)).latex))\n",
    "end\n",
    "print(ss_RP_Names)\n",
    "StatsPlots.bar(ss_RP_Names, ss_RP_vals, ylabel=\"Frequency\", title=\"Highest Momentum in Jet Particle Types - RP Particle\", legend=false)\n",
    "#print(ss_RP_latex)\n",
    "#print(to_latex(printed_latex[1]))\n",
    "#print(edit_latex)\n",
    "#print(numbers)\n",
    "#numbers = [\"$(ss_RP_u[i])\" for i in 1:length(ss_RP_u)]\n",
    "\n",
    "#StatsPlots.savefig(\"ss_RPleadParticle.pdf\")\n",
    "#Names = Dict(-11 => \"e^{+}\",211 => \"\\\\pi^{+}\",11 => \"e^{-}\",2212 => \"p\",-2212 => \"p\",-211 => \"\\\\pi^{-}\",130 => \"K_{l}^{0}\",321 => \"K^{+}\",22 => \"\\\\gamma\",2112 => \"n\",-321 => \"K^{-}\",-2112 => \"\\\\barn\",-13 => \"\\\\mu^{+}\", 13 => \"\\\\mu^{-}\",-14 => \"\\\\overbarv_{u}\")"
   ]
  },
  {
   "cell_type": "markdown",
   "metadata": {},
   "source": [
    "Same code, botton events"
   ]
  },
  {
   "cell_type": "code",
   "execution_count": 7,
   "metadata": {},
   "outputs": [
    {
     "name": "stdout",
     "output_type": "stream",
     "text": [
      "BuildUpVertices\n",
      "BuildUpVertices_RP\n",
      "BuildUpVertices_V0\n",
      "BuildUpVertices_V0_RP\n",
      "BuildUpVertices_V0_res\n",
      "BuildUpVertices_V0_res_RP\n",
      "BuildUpVertices_res\n",
      "BuildUpVertices_res_RP\n",
      "ECalBarrelHits\n",
      "ECalEndcapHits\n",
      "MCParticle\n",
      "PandoraClusters\n",
      "PandoraPFANewStartVertices\n",
      "PandoraPFOs\n",
      "PrimaryVertices\n",
      "PrimaryVertices_RP\n",
      "PrimaryVertices_res\n",
      "PrimaryVertices_res_RP\n",
      "RecoMCTruthLink\n",
      "RefinedVertexJets\n",
      "RefinedVertexJets_rel\n",
      "RefinedVertexJets_vtx\n",
      "RefinedVertexJets_vtx_RP\n",
      "RefinedVertices\n",
      "RefinedVertices_RP\n",
      "VertexJets\n"
     ]
    }
   ],
   "source": [
    "fileList_bb = filter(s->occursin(r\"E250_SetA.Pmumuh2bb.Gwhizard-2_84.eL0.8\\.pR0.3\\..*_DST.slcio\", s), readdir(\"/nfs/dust/ilc/user/jstrube/StrangeHiggs/data/RecoLevel\", join=true))\n",
    "\n",
    "#fileList = filter(s->occursin(r\"dump.slcio\", s), readdir(\"/nfs/dust/ilc/user/jstrube/StrangeHiggs/data\", join=true))\n",
    "\n",
    "LCIO.open(fileList_bb[1]) do reader\n",
    "    for (iEvent, event) in enumerate(reader)\n",
    "        for name in getCollectionNames(event)\n",
    "            println(name)\n",
    "        end\n",
    "        break\n",
    "    end\n",
    "end"
   ]
  },
  {
   "cell_type": "code",
   "execution_count": 8,
   "metadata": {},
   "outputs": [],
   "source": [
    "bb_MCleadPDG = []\n",
    "bb_MCleadingParticlePList = []\n",
    "bb_PFOleadPDG = []\n",
    "bb_PFOleadingParticlePList = []\n",
    "bb_kShortInPiPiEventList_MC = []\n",
    "bb_kShortInPiPiEventList_PFO = []\n",
    "bb_lambdaInProtonEventList_MC = []\n",
    "bb_lambdaInProtonEventList_PFO = []\n",
    "\n",
    "vp = FastJet.ValenciaPlugin(1.2, 0.8)\n",
    "jet_def = JetDefinition(vp)\n",
    "\n",
    "for FILENAME in fileList_bb\n",
    "    LCIO.open(FILENAME) do reader\n",
    "        for (iEvent, event) in enumerate(reader)\n",
    "            #recoLinks = getCollection(event, \"RecoMCTruthLink\")\n",
    "            \n",
    "            #This is the Jet Clustering Loop for MCParticles\n",
    "            if iEvent>100\n",
    "                break\n",
    "            end\n",
    "            mcp = getCollection(event, \"MCParticle\")\n",
    "            iMCParticle = 0\n",
    "            MCparticles = PseudoJet[]\n",
    "            for MCparticle in mcp\n",
    "                iMCParticle += 1\n",
    "                if getGeneratorStatus(MCparticle) != 1\n",
    "                    continue\n",
    "                end\n",
    "                E = getEnergy(MCparticle)\n",
    "                p = getMomentum(MCparticle)\n",
    "                pj=PseudoJet(p[1], p[2], p[3], E)\n",
    "                set_user_index(pj, iMCParticle)\n",
    "                push!(MCparticles, pj)\n",
    "            end\n",
    "            MCcs = ClusterSequence(StdVector(MCparticles), jet_def)\n",
    "            MCjets = exclusive_jets(MCcs, 2)\n",
    "            nMCJet=0\n",
    "            for j in MCjets\n",
    "                nMCJet+=1\n",
    "                nCon=0\n",
    "                jetTotalMomentum=(0,0,0)\n",
    "                leadMomentum = 0\n",
    "                for c in constituents(j)\n",
    "                    nCon+=1\n",
    "                    index=FastJet.user_index(c)\n",
    "                    if nCon==1\n",
    "                        jetTotalMomentum=jetConstituentP(c)\n",
    "                    elseif nCon>1\n",
    "                        jetTotalMomentum=jetTotalMomentum.+jetConstituentP(c)\n",
    "                    end\n",
    "                    if nCon==leadingParticleIndex(j)\n",
    "                        leadMomentum = sqrt(dot((FastJet.px(c), FastJet.py(c), FastJet.pz(c)),\n",
    "                            (FastJet.px(c), FastJet.py(c), FastJet.pz(c)))+10^(-10))\n",
    "                        MCParticle = mcp[index]\n",
    "                        pdg=getPDG(MCParticle)\n",
    "                        if abs(pdg)==13\n",
    "                            continue\n",
    "                        end\n",
    "                        if abs(pdg)==211\n",
    "                            for parent in getParents(MCParticle)\n",
    "                                if abs(getPDG(parent))==130\n",
    "                                    push!(bb_kShortInPiPiEventList_MC, iEvent)\n",
    "                                end\n",
    "                            end\n",
    "                        end\n",
    "                        if abs(pdg)==2212\n",
    "                            for parent in getParents(MCParticle)\n",
    "                                if abs(getPDG(parent))==3312\n",
    "                                    push!(bb_lambdaInProtonEventList_MC, iEvent)\n",
    "                                end\n",
    "                            end\n",
    "                        end\n",
    "                        push!(bb_MCleadPDG, pdg)\n",
    "                    end\n",
    "                end\n",
    "            end\n",
    "            if FastJet.n_particles(MCcs)<0\n",
    "                print(\"你好！\")\n",
    "            end\n",
    "            #reconstructed particle loop\n",
    "            rp = getCollection(event, \"PandoraPFOs\")\n",
    "            recoLinks = getCollection(event, \"RecoMCTruthLink\")\n",
    "            rel=LCIO.LCRelationNavigator(recoLinks)\n",
    "            iRPParticle = 0\n",
    "            RPparticles = PseudoJet[]\n",
    "            for RPparticle in rp\n",
    "                iRPParticle += 1\n",
    "                #if getGeneratorStatus(RPparticle) != 1\n",
    "                #    continue\n",
    "                #end\n",
    "                E = getEnergy(RPparticle)\n",
    "                p = getMomentum(RPparticle)\n",
    "                pj=PseudoJet(p[1], p[2], p[3], E)\n",
    "                set_user_index(pj, iRPParticle)\n",
    "                push!(RPparticles, pj)\n",
    "            end\n",
    "            RPcs = ClusterSequence(StdVector(RPparticles), jet_def)\n",
    "            RPjets = exclusive_jets(RPcs, 2)\n",
    "            nRPJet=0\n",
    "            for j in RPjets\n",
    "                nRPJet+=1\n",
    "                nCon=0\n",
    "                jetTotalMomentum=(0,0,0)\n",
    "                leadMomentum = 0\n",
    "                for c in constituents(j)\n",
    "                    nCon+=1\n",
    "                    index=FastJet.user_index(c)\n",
    "                    if nCon==1\n",
    "                        jetTotalMomentum=jetConstituentP(c)\n",
    "                    elseif nCon>1\n",
    "                        jetTotalMomentum=jetTotalMomentum.+jetConstituentP(c)\n",
    "                    end\n",
    "                    if nCon==leadingParticleIndex(j)\n",
    "                        leadMomentum = sqrt(dot((FastJet.px(c), FastJet.py(c), FastJet.pz(c)),\n",
    "                            (FastJet.px(c), FastJet.py(c), FastJet.pz(c)))+10^(-10))\n",
    "                        RP = rp[index]\n",
    "                        mcpList = getRelatedToObjects(rel, RP)\n",
    "                        if length(mcpList)>0\n",
    "                            pdg=getPDG(mcpList[1])\n",
    "                            if abs(pdg)==13\n",
    "                                continue\n",
    "                            end\n",
    "                            if abs(pdg)==211\n",
    "                                for parent in getParents(mcpList[1])\n",
    "                                    if abs(getPDG(parent))==130\n",
    "                                        push!(bb_kShortInPiPiEventList_PFO, iEvent)\n",
    "                                    end\n",
    "                                end\n",
    "                            end\n",
    "                            push!(bb_PFOleadPDG, pdg)\n",
    "                            if abs(pdg)==2212\n",
    "                                for parent in getParents(mcpList[1])\n",
    "                                    if abs(getPDG(parent))==3312\n",
    "                                        push!(bb_lambdaInProtonEventList_PFO, iEvent)\n",
    "                                    end\n",
    "                                end\n",
    "                            end\n",
    "                        end\n",
    "                        #invMassRP = sqrt(getEnergy(RP)^2+leadMomentum^2)\n",
    "                        #push!(PFOleadPDG, invMassRP)\n",
    "                    end\n",
    "                end\n",
    "            end\n",
    "            if FastJet.n_particles(RPcs)<0\n",
    "                print(\"你好！\")\n",
    "            end\n",
    "        end\n",
    "    end\n",
    "end"
   ]
  },
  {
   "cell_type": "code",
   "execution_count": 9,
   "metadata": {},
   "outputs": [
    {
     "name": "stdout",
     "output_type": "stream",
     "text": [
      "[\"̄{p}\", \"̄{n}\", \"K⁻\", \"π⁻\", \"̄{ν}ₜₐᵤ\", \"̄{ν}ₘᵤ\", \"̄{ν}ₑ\", \"e⁺\", \"e⁻\", \"νₑ\", \"νₘᵤ\", \"νₜₐᵤ\", \"γ\", \"Kₗ⁰\", \"π⁺\", \"K⁺\", \"n\", \"p\"]"
     ]
    },
    {
     "data": {
      "image/png": "[encoded data removed]"
     },
     "execution_count": 9,
     "metadata": {},
     "output_type": "execute_result"
    }
   ],
   "source": [
    "bb_MC_y=bb_MCleadPDG\n",
    "bb_MC_u=sort(unique(bb_MC_y))\n",
    "bb_MC_d=Dict([(i,count(x->x==i,bb_MC_y)) for i in bb_MC_u])\n",
    "bb_MC_vals = [bb_MC_d[i] for i in bb_MC_u]\n",
    "bb_MC_Names = Dict([(i, (Particle(convert(Int64, i)).latex)) for i in bb_MC_u])\n",
    "bb_MC_latex = [(bb_MC_Names[convert(Int32, i)]) for i in bb_MC_u]\n",
    "bb_MC_printed_latex=[\"\\\\bar{p}\", \"\\\\bar{n}\", \"K^{-}\", \"\\\\pi^{-}\", \"\\\\bar{\\\\nu}_{\\\\tau}\", \"\\\\bar{\\\\nu}_{\\\\mu}\", \"\\\\bar{\\\\nu}_{e}\", \"e^{+}\", \"e^{-}\", \"\\\\nu_{e}\", \"\\\\nu_{\\\\mu}\", \"\\\\nu_{\\\\tau}\", \"\\\\gamma\", \"K_{L}^{0}\", \"\\\\pi^{+}\", \"K^{+}\", \"n\", \"p\"]\n",
    "bb_MC_edit_latex=[\"\\\\bar{p}\", \"\\\\bar{n}\", \"K^{-}\", \"\\\\pi^{-}\", \"\\\\bar{\\\\nu}_{tau}\", \"\\\\bar{\\\\nu}_{mu}\", \"\\\\bar{\\\\nu}_{e}\", \"e^{+}\", \"e^{-}\", \"\\\\nu_{e}\", \"\\\\nu_{mu}\", \"\\\\nu_{tau}\", \"\\\\gamma\", \"K_{l}^{0}\", \"\\\\pi^{+}\", \"K^{+}\", \"n\", \"p\"]\n",
    "bb_MC_x_axis_names=[to_latex(bb_MC_edit_latex[i]) for i in 1:length(bb_MC_edit_latex)]\n",
    "print(bb_MC_x_axis_names)\n",
    "StatsPlots.bar(bb_MC_vals, ylabel=\"Frequency\", title=\"Highest Momentum in Jet Particle Types - MC Particle\", legend=false)\n",
    "#print(bb_MC_latex)\n",
    "#print(to_latex(printed_latex[1]))\n",
    "#print(edit_latex)\n",
    "#print(numbers)\n",
    "#numbers = [\"$(bb_MC_u[i])\" for i in 1:length(bb_MC_u)]\n",
    "\n",
    "#StatsPlots.savefig(\"bb_MCleadParticle.pdf\")\n",
    "#Names = Dict(-11 => \"e^{+}\",211 => \"\\\\pi^{+}\",11 => \"e^{-}\",2212 => \"p\",-2212 => \"p\",-211 => \"\\\\pi^{-}\",130 => \"K_{l}^{0}\",321 => \"K^{+}\",22 => \"\\\\gamma\",2112 => \"n\",-321 => \"K^{-}\",-2112 => \"\\\\barn\",-13 => \"\\\\mu^{+}\", 13 => \"\\\\mu^{-}\",-14 => \"\\\\overbarv_{u}\")"
   ]
  },
  {
   "cell_type": "code",
   "execution_count": 10,
   "metadata": {},
   "outputs": [
    {
     "name": "stdout",
     "output_type": "stream",
     "text": [
      "[\"̄{Ξ}⁰\", \"̄{Ξ}⁺\", \"̄{Σ}⁻\", \"̄{Λ}\", \"̄{Σ}⁺\", \"̄{p}\", \"̄{n}\", \"K⁻\", \"π⁻\", \"e⁺\", \"e⁻\", \"γ\", \"Kₗ⁰\", \"π⁺\", \"Kₛ⁰\", \"K⁺\", \"n\", \"p\", \"Σ⁻\", \"Λ\", \"Σ⁺\", \"Ξ⁻\", \"Ξ⁰\"]"
     ]
    },
    {
     "data": {
      "image/png": "[encoded data removed]"
     },
     "execution_count": 10,
     "metadata": {},
     "output_type": "execute_result"
    }
   ],
   "source": [
    "bb_RP_y=bb_PFOleadPDG\n",
    "bb_RP_u=sort(unique(bb_RP_y))\n",
    "bb_RP_d=Dict([(i,count(x->x==i,bb_RP_y)) for i in bb_RP_u])\n",
    "bb_RP_vals = [bb_RP_d[i] for i in bb_RP_u]\n",
    "bb_RP_Names = Dict([(i, (Particle(convert(Int64, i)).latex)) for i in bb_RP_u])\n",
    "bb_RP_latex = [(bb_RP_Names[convert(Int32, i)]) for i in bb_RP_u]\n",
    "bb_RP_printed_latex=[\"\\\\bar{\\\\Xi}^{0}\", \"\\\\bar{\\\\Xi}^{+}\", \"\\\\bar{\\\\Sigma}^{-}\", \"\\\\bar{\\\\Lambda}\", \"\\\\bar{\\\\Sigma}^{+}\", \"\\\\bar{p}\", \"\\\\bar{n}\", \"K^{-}\", \"\\\\pi^{-}\", \"e^{+}\", \"e^{-}\", \"\\\\gamma\", \"K_{L}^{0}\", \"\\\\pi^{+}\", \"K_{S}^{0}\", \"K^{+}\", \"n\", \"p\", \"\\\\Sigma^{-}\", \"\\\\Lambda\", \"\\\\Sigma^{+}\", \"\\\\Xi^{-}\", \"\\\\Xi^{0}\"]\n",
    "bb_RP_edit_latex=[\"\\\\bar{\\\\Xi}^{0}\", \"\\\\bar{\\\\Xi}^{+}\", \"\\\\bar{\\\\Sigma}^{-}\", \"\\\\bar{\\\\Lambda}\", \"\\\\bar{\\\\Sigma}^{+}\", \"\\\\bar{p}\", \"\\\\bar{n}\", \"K^{-}\", \"\\\\pi^{-}\", \"e^{+}\", \"e^{-}\", \"\\\\gamma\", \"K_{l}^{0}\", \"\\\\pi^{+}\", \"K_{s}^{0}\", \"K^{+}\", \"n\", \"p\", \"\\\\Sigma^{-}\", \"\\\\Lambda\", \"\\\\Sigma^{+}\", \"\\\\Xi^{-}\", \"\\\\Xi^{0}\"]\n",
    "bb_RP_x_axis_names=[to_latex(bb_RP_edit_latex[i]) for i in 1:length(bb_RP_edit_latex)]\n",
    "print(bb_RP_x_axis_names)\n",
    "StatsPlots.bar(bb_RP_vals, ylabel=\"Frequency\", title=\"Highest Momentum in Jet Particle Types - RP Particle\", legend=false)\n",
    "#print(bb_RP_latex)\n",
    "#print(to_latex(printed_latex[1]))\n",
    "#print(edit_latex)\n",
    "#print(numbers)\n",
    "#numbers = [\"$(bb_RP_u[i])\" for i in 1:length(bb_RP_u)]\n",
    "\n",
    "#StatsPlots.savefig(\"bb_RPleadParticle.pdf\")\n",
    "#Names = Dict(-11 => \"e^{+}\",211 => \"\\\\pi^{+}\",11 => \"e^{-}\",2212 => \"p\",-2212 => \"p\",-211 => \"\\\\pi^{-}\",130 => \"K_{l}^{0}\",321 => \"K^{+}\",22 => \"\\\\gamma\",2112 => \"n\",-321 => \"K^{-}\",-2112 => \"\\\\barn\",-13 => \"\\\\mu^{+}\", 13 => \"\\\\mu^{-}\",-14 => \"\\\\overbarv_{u}\")"
   ]
  },
  {
   "cell_type": "markdown",
   "metadata": {},
   "source": [
    "Same code, charm events"
   ]
  },
  {
   "cell_type": "code",
   "execution_count": 11,
   "metadata": {},
   "outputs": [
    {
     "name": "stdout",
     "output_type": "stream",
     "text": [
      "BuildUpVertices\n",
      "BuildUpVertices_RP\n",
      "BuildUpVertices_V0\n",
      "BuildUpVertices_V0_RP\n",
      "BuildUpVertices_V0_res\n",
      "BuildUpVertices_V0_res_RP\n",
      "BuildUpVertices_res\n",
      "BuildUpVertices_res_RP\n",
      "ECalBarrelHits\n",
      "ECalEndcapHits\n",
      "MCParticle\n",
      "PandoraClusters\n",
      "PandoraPFANewStartVertices\n",
      "PandoraPFOs\n",
      "PrimaryVertices\n",
      "PrimaryVertices_RP\n",
      "PrimaryVertices_res\n",
      "PrimaryVertices_res_RP\n",
      "RecoMCTruthLink\n",
      "RefinedVertexJets\n",
      "RefinedVertexJets_rel\n",
      "RefinedVertexJets_vtx\n",
      "RefinedVertexJets_vtx_RP\n",
      "RefinedVertices\n",
      "RefinedVertices_RP\n",
      "VertexJets\n"
     ]
    }
   ],
   "source": [
    "fileList_cc = filter(s->occursin(r\"E250_SetA.Pmumuh2cc.Gwhizard-2_84.eL0.8\\.pR0.3\\..*_DST.slcio\", s), readdir(\"/nfs/dust/ilc/user/jstrube/StrangeHiggs/data/RecoLevel\", join=true))\n",
    "\n",
    "#fileList = filter(s->occursin(r\"dump.slcio\", s), readdir(\"/nfs/dust/ilc/user/jstrube/StrangeHiggs/data\", join=true))\n",
    "\n",
    "LCIO.open(fileList_cc[1]) do reader\n",
    "    for (iEvent, event) in enumerate(reader)\n",
    "        for name in getCollectionNames(event)\n",
    "            println(name)\n",
    "        end\n",
    "        break\n",
    "    end\n",
    "end"
   ]
  },
  {
   "cell_type": "code",
   "execution_count": 12,
   "metadata": {},
   "outputs": [],
   "source": [
    "cc_MCleadPDG = []\n",
    "cc_MCleadingParticlePList = []\n",
    "cc_PFOleadPDG = []\n",
    "cc_PFOleadingParticlePList = []\n",
    "cc_kShortInPiPiEventList_MC = []\n",
    "cc_kShortInPiPiEventList_PFO = []\n",
    "cc_lambdaInProtonEventList_MC = []\n",
    "cc_lambdaInProtonEventList_PFO = []\n",
    "\n",
    "vp = FastJet.ValenciaPlugin(1.2, 0.8)\n",
    "jet_def = JetDefinition(vp)\n",
    "\n",
    "for FILENAME in fileList_cc\n",
    "    LCIO.open(FILENAME) do reader\n",
    "        for (iEvent, event) in enumerate(reader)\n",
    "            if iEvent>100\n",
    "                break\n",
    "            end\n",
    "            #recoLinks = getCollection(event, \"RecoMCTruthLink\")\n",
    "            \n",
    "            #This is the Jet Clustering Loop for MCParticles\n",
    "            mcp = getCollection(event, \"MCParticle\")\n",
    "            iMCParticle = 0\n",
    "            MCparticles = PseudoJet[]\n",
    "            for MCparticle in mcp\n",
    "                iMCParticle += 1\n",
    "                if getGeneratorStatus(MCparticle) != 1\n",
    "                    continue\n",
    "                end\n",
    "                E = getEnergy(MCparticle)\n",
    "                p = getMomentum(MCparticle)\n",
    "                pj=PseudoJet(p[1], p[2], p[3], E)\n",
    "                set_user_index(pj, iMCParticle)\n",
    "                push!(MCparticles, pj)\n",
    "            end\n",
    "            MCcs = ClusterSequence(StdVector(MCparticles), jet_def)\n",
    "            MCjets = exclusive_jets(MCcs, 2)\n",
    "            nMCJet=0\n",
    "            for j in MCjets\n",
    "                nMCJet+=1\n",
    "                nCon=0\n",
    "                jetTotalMomentum=(0,0,0)\n",
    "                leadMomentum = 0\n",
    "                for c in constituents(j)\n",
    "                    nCon+=1\n",
    "                    index=FastJet.user_index(c)\n",
    "                    if nCon==1\n",
    "                        jetTotalMomentum=jetConstituentP(c)\n",
    "                    elseif nCon>1\n",
    "                        jetTotalMomentum=jetTotalMomentum.+jetConstituentP(c)\n",
    "                    end\n",
    "                    if nCon==leadingParticleIndex(j)\n",
    "                        leadMomentum = sqrt(dot((FastJet.px(c), FastJet.py(c), FastJet.pz(c)),\n",
    "                            (FastJet.px(c), FastJet.py(c), FastJet.pz(c)))+10^(-10))\n",
    "                        MCParticle = mcp[index]\n",
    "                        pdg=getPDG(MCParticle)\n",
    "                        if abs(pdg)==13\n",
    "                            continue\n",
    "                        end\n",
    "                        if abs(pdg)==211\n",
    "                            for parent in getParents(MCParticle)\n",
    "                                if abs(getPDG(parent))==130\n",
    "                                    push!(cc_kShortInPiPiEventList_MC, iEvent)\n",
    "                                end\n",
    "                            end\n",
    "                        end\n",
    "                        if abs(pdg)==2212\n",
    "                            for parent in getParents(MCParticle)\n",
    "                                if abs(getPDG(parent))==3312\n",
    "                                    push!(cc_lambdaInProtonEventList_MC, iEvent)\n",
    "                                end\n",
    "                            end\n",
    "                        end\n",
    "                        push!(cc_MCleadPDG, pdg)\n",
    "                    end\n",
    "                end\n",
    "            end\n",
    "            if FastJet.n_particles(MCcs)<0\n",
    "                print(\"你好！\")\n",
    "            end\n",
    "            \n",
    "            #reconstructed particle loop\n",
    "            rp = getCollection(event, \"PandoraPFOs\")\n",
    "            recoLinks = getCollection(event, \"RecoMCTruthLink\")\n",
    "            rel=LCIO.LCRelationNavigator(recoLinks)\n",
    "            iRPParticle = 0\n",
    "            RPparticles = PseudoJet[]\n",
    "            for RPparticle in rp\n",
    "                iRPParticle += 1\n",
    "                #if getGeneratorStatus(RPparticle) != 1\n",
    "                #    continue\n",
    "                #end\n",
    "                E = getEnergy(RPparticle)\n",
    "                p = getMomentum(RPparticle)\n",
    "                pj=PseudoJet(p[1], p[2], p[3], E)\n",
    "                set_user_index(pj, iRPParticle)\n",
    "                push!(RPparticles, pj)\n",
    "            end\n",
    "            RPcs = ClusterSequence(StdVector(RPparticles), jet_def)\n",
    "            RPjets = exclusive_jets(RPcs, 2)\n",
    "            nRPJet=0\n",
    "            for j in RPjets\n",
    "                nRPJet+=1\n",
    "                nCon=0\n",
    "                jetTotalMomentum=(0,0,0)\n",
    "                leadMomentum = 0\n",
    "                for c in constituents(j)\n",
    "                    nCon+=1\n",
    "                    index=FastJet.user_index(c)\n",
    "                    if nCon==1\n",
    "                        jetTotalMomentum=jetConstituentP(c)\n",
    "                    elseif nCon>1\n",
    "                        jetTotalMomentum=jetTotalMomentum.+jetConstituentP(c)\n",
    "                    end\n",
    "                    if nCon==leadingParticleIndex(j)\n",
    "                        leadMomentum = sqrt(dot((FastJet.px(c), FastJet.py(c), FastJet.pz(c)),\n",
    "                            (FastJet.px(c), FastJet.py(c), FastJet.pz(c)))+10^(-10))\n",
    "                        RP = rp[index]\n",
    "                        mcpList = getRelatedToObjects(rel, RP)\n",
    "                        if length(mcpList)>0\n",
    "                            pdg=getPDG(mcpList[1])\n",
    "                            if abs(pdg)==13\n",
    "                                continue\n",
    "                            end\n",
    "                            if abs(pdg)==211\n",
    "                                for parent in getParents(mcpList[1])\n",
    "                                    if abs(getPDG(parent))==130\n",
    "                                        push!(cc_kShortInPiPiEventList_PFO, iEvent)\n",
    "                                    end\n",
    "                                end\n",
    "                            end\n",
    "                            push!(cc_PFOleadPDG, pdg)\n",
    "                            if abs(pdg)==2212\n",
    "                                for parent in getParents(mcpList[1])\n",
    "                                    if abs(getPDG(parent))==3312\n",
    "                                        push!(cc_lambdaInProtonEventList_PFO, iEvent)\n",
    "                                    end\n",
    "                                end\n",
    "                            end\n",
    "                        end\n",
    "                        #invMassRP = sqrt(getEnergy(RP)^2+leadMomentum^2)\n",
    "                        #push!(PFOleadPDG, invMassRP)\n",
    "                    end\n",
    "                end\n",
    "            end\n",
    "            if FastJet.n_particles(RPcs)<0\n",
    "                print(\"你好！\")\n",
    "            end\n",
    "        end\n",
    "    end\n",
    "end"
   ]
  },
  {
   "cell_type": "code",
   "execution_count": 13,
   "metadata": {},
   "outputs": [
    {
     "name": "stdout",
     "output_type": "stream",
     "text": [
      "[\"̄{p}\", \"̄{n}\", \"K⁻\", \"π⁻\", \"̄{ν}ₜₐᵤ\", \"̄{ν}ₘᵤ\", \"̄{ν}ₑ\", \"e⁺\", \"e⁻\", \"νₑ\", \"νₘᵤ\", \"νₜₐᵤ\", \"γ\", \"Kₗ⁰\", \"π⁺\", \"K⁺\", \"n\", \"p\"]"
     ]
    },
    {
     "data": {
      "image/png": "[encoded data removed]"
     },
     "execution_count": 13,
     "metadata": {},
     "output_type": "execute_result"
    }
   ],
   "source": [
    "cc_MC_y=cc_MCleadPDG\n",
    "cc_MC_u=sort(unique(cc_MC_y))\n",
    "cc_MC_d=Dict([(i,count(x->x==i,cc_MC_y)) for i in cc_MC_u])\n",
    "cc_MC_vals = [cc_MC_d[i] for i in cc_MC_u]\n",
    "cc_MC_Names = Dict([(i, (Particle(convert(Int64, i)).latex)) for i in cc_MC_u])\n",
    "cc_MC_latex = [(cc_MC_Names[convert(Int32, i)]) for i in cc_MC_u]\n",
    "cc_MC_edit_latex=[\"\\\\bar{p}\", \"\\\\bar{n}\", \"K^{-}\", \"\\\\pi^{-}\", \"\\\\bar{\\\\nu}_{tau}\", \"\\\\bar{\\\\nu}_{mu}\", \"\\\\bar{\\\\nu}_{e}\", \"e^{+}\", \"e^{-}\", \"\\\\nu_{e}\", \"\\\\nu_{mu}\", \"\\\\nu_{tau}\", \"\\\\gamma\", \"K_{l}^{0}\", \"\\\\pi^{+}\", \"K^{+}\", \"n\", \"p\"]\n",
    "cc_MC_x_axis_names=[to_latex(cc_MC_edit_latex[i]) for i in 1:length(cc_MC_edit_latex)]\n",
    "print(cc_MC_x_axis_names)\n",
    "StatsPlots.bar(cc_MC_vals, ylabel=\"Frequency\", title=\"Highest Momentum in Jet Particle Types - MC Particle\", legend=false)\n",
    "#print(cc_MC_latex)\n",
    "#print(to_latex(printed_latex[1]))\n",
    "#print(edit_latex)\n",
    "#print(numbers)\n",
    "#numbers = [\"$(cc_MC_u[i])\" for i in 1:length(cc_MC_u)]\n",
    "\n",
    "#StatsPlots.savefig(\"cc_MCleadParticle.pdf\")\n",
    "#Names = Dict(-11 => \"e^{+}\",211 => \"\\\\pi^{+}\",11 => \"e^{-}\",2212 => \"p\",-2212 => \"p\",-211 => \"\\\\pi^{-}\",130 => \"K_{l}^{0}\",321 => \"K^{+}\",22 => \"\\\\gamma\",2112 => \"n\",-321 => \"K^{-}\",-2112 => \"\\\\barn\",-13 => \"\\\\mu^{+}\", 13 => \"\\\\mu^{-}\",-14 => \"\\\\overbarv_{u}\")"
   ]
  },
  {
   "cell_type": "code",
   "execution_count": 14,
   "metadata": {},
   "outputs": [
    {
     "name": "stdout",
     "output_type": "stream",
     "text": [
      "[\"̄{Ξ}⁰\", \"̄{Ξ}⁺\", \"̄{Σ}⁻\", \"̄{Λ}\", \"̄{Σ}⁺\", \"̄{p}\", \"̄{n}\", \"K⁻\", \"π⁻\", \"e⁺\", \"e⁻\", \"γ\", \"Kₗ⁰\", \"π⁺\", \"Kₛ⁰\", \"K⁺\", \"n\", \"p\", \"Σ⁻\", \"Λ\", \"Σ⁺\", \"Ξ⁻\", \"Ξ⁰\"]"
     ]
    },
    {
     "data": {
      "image/png": "[encoded data removed]"
     },
     "execution_count": 14,
     "metadata": {},
     "output_type": "execute_result"
    }
   ],
   "source": [
    "cc_RP_y=cc_PFOleadPDG\n",
    "cc_RP_u=sort(unique(cc_RP_y))\n",
    "cc_RP_d=Dict([(i,count(x->x==i,cc_RP_y)) for i in cc_RP_u])\n",
    "cc_RP_vals = [cc_RP_d[i] for i in cc_RP_u]\n",
    "cc_RP_Names = Dict([(i, (Particle(convert(Int64, i)).latex)) for i in cc_RP_u])\n",
    "cc_RP_latex = [(cc_RP_Names[convert(Int32, i)]) for i in cc_RP_u]\n",
    "cc_RP_edit_latex=[\"\\\\bar{\\\\Xi}^{0}\", \"\\\\bar{\\\\Xi}^{+}\", \"\\\\bar{\\\\Sigma}^{-}\", \"\\\\bar{\\\\Lambda}\", \"\\\\bar{\\\\Sigma}^{+}\", \"\\\\bar{p}\", \"\\\\bar{n}\", \"K^{-}\", \"\\\\pi^{-}\", \"e^{+}\", \"e^{-}\", \"\\\\gamma\", \"K_{l}^{0}\", \"\\\\pi^{+}\", \"K_{s}^{0}\", \"K^{+}\", \"n\", \"p\", \"\\\\Sigma^{-}\", \"\\\\Lambda\", \"\\\\Sigma^{+}\", \"\\\\Xi^{-}\", \"\\\\Xi^{0}\"]\n",
    "cc_RP_x_axis_names=[to_latex(cc_RP_edit_latex[i]) for i in 1:length(cc_RP_edit_latex)]\n",
    "print(cc_RP_x_axis_names)\n",
    "StatsPlots.bar(cc_RP_vals, ylabel=\"Frequency\", title=\"Highest Momentum in Jet Particle Types - RP Particle\", legend=false)\n",
    "#print(cc_RP_latex)\n",
    "#print(to_latex(printed_latex[1]))\n",
    "#print(edit_latex)\n",
    "#print(numbers)\n",
    "#numbers = [\"$(cc_RP_u[i])\" for i in 1:length(cc_RP_u)]\n",
    "\n",
    "#StatsPlots.savefig(\"cc_RPleadParticle.pdf\")\n",
    "#Names = Dict(-11 => \"e^{+}\",211 => \"\\\\pi^{+}\",11 => \"e^{-}\",2212 => \"p\",-2212 => \"p\",-211 => \"\\\\pi^{-}\",130 => \"K_{l}^{0}\",321 => \"K^{+}\",22 => \"\\\\gamma\",2112 => \"n\",-321 => \"K^{-}\",-2112 => \"\\\\barn\",-13 => \"\\\\mu^{+}\", 13 => \"\\\\mu^{-}\",-14 => \"\\\\overbarv_{u}\")"
   ]
  },
  {
   "cell_type": "markdown",
   "metadata": {},
   "source": [
    "Same code, gluon events"
   ]
  },
  {
   "cell_type": "code",
   "execution_count": 15,
   "metadata": {},
   "outputs": [
    {
     "name": "stdout",
     "output_type": "stream",
     "text": [
      "BuildUpVertices\n",
      "BuildUpVertices_RP\n",
      "BuildUpVertices_V0\n",
      "BuildUpVertices_V0_RP\n",
      "BuildUpVertices_V0_res\n",
      "BuildUpVertices_V0_res_RP\n",
      "BuildUpVertices_res\n",
      "BuildUpVertices_res_RP\n",
      "ECalBarrelHits\n",
      "ECalEndcapHits\n",
      "MCParticle\n",
      "PandoraClusters\n",
      "PandoraPFANewStartVertices\n",
      "PandoraPFOs\n",
      "PrimaryVertices\n",
      "PrimaryVertices_RP\n",
      "PrimaryVertices_res\n",
      "PrimaryVertices_res_RP\n",
      "RecoMCTruthLink\n",
      "RefinedVertexJets\n",
      "RefinedVertexJets_rel\n",
      "RefinedVertexJets_vtx\n",
      "RefinedVertexJets_vtx_RP\n",
      "RefinedVertices\n",
      "RefinedVertices_RP\n",
      "VertexJets\n"
     ]
    }
   ],
   "source": [
    "fileList_gg = filter(s->occursin(r\"E250_SetA.Pmumuh2gg.Gwhizard-2_84.eL0.8\\.pR0.3\\..*_DST.slcio\", s), readdir(\"/nfs/dust/ilc/user/jstrube/StrangeHiggs/data/RecoLevel\", join=true))\n",
    "\n",
    "#fileList = filter(s->occursin(r\"dump.slcio\", s), readdir(\"/nfs/dust/ilc/user/jstrube/StrangeHiggs/data\", join=true))\n",
    "\n",
    "LCIO.open(fileList_gg[1]) do reader\n",
    "    for (iEvent, event) in enumerate(reader)\n",
    "        for name in getCollectionNames(event)\n",
    "            println(name)\n",
    "        end\n",
    "        break\n",
    "    end\n",
    "end"
   ]
  },
  {
   "cell_type": "code",
   "execution_count": 16,
   "metadata": {},
   "outputs": [],
   "source": [
    "gg_MCleadPDG = []\n",
    "gg_MCleadingParticlePList = []\n",
    "gg_PFOleadPDG = []\n",
    "gg_PFOleadingParticlePList = []\n",
    "gg_kShortInPiPiEventList_MC = []\n",
    "gg_kShortInPiPiEventList_PFO = []\n",
    "gg_lambdaInProtonEventList_MC = []\n",
    "gg_lambdaInProtonEventList_PFO = []\n",
    "\n",
    "vp = FastJet.ValenciaPlugin(1.2, 0.8)\n",
    "jet_def = JetDefinition(vp)\n",
    "\n",
    "for FILENAME in fileList_gg\n",
    "    LCIO.open(FILENAME) do reader\n",
    "        for (iEvent, event) in enumerate(reader)\n",
    "            if iEvent>100\n",
    "                break\n",
    "            end\n",
    "            #recoLinks = getCollection(event, \"RecoMCTruthLink\")\n",
    "            \n",
    "            #This is the Jet Clustering Loop for MCParticles\n",
    "            mcp = getCollection(event, \"MCParticle\")\n",
    "            iMCParticle = 0\n",
    "            MCparticles = PseudoJet[]\n",
    "            for MCparticle in mcp\n",
    "                iMCParticle += 1\n",
    "                if getGeneratorStatus(MCparticle) != 1\n",
    "                    continue\n",
    "                end\n",
    "                E = getEnergy(MCparticle)\n",
    "                p = getMomentum(MCparticle)\n",
    "                pj=PseudoJet(p[1], p[2], p[3], E)\n",
    "                set_user_index(pj, iMCParticle)\n",
    "                push!(MCparticles, pj)\n",
    "            end\n",
    "            MCcs = ClusterSequence(StdVector(MCparticles), jet_def)\n",
    "            MCjets = exclusive_jets(MCcs, 2)\n",
    "            nMCJet=0\n",
    "            for j in MCjets\n",
    "                nMCJet+=1\n",
    "                nCon=0\n",
    "                jetTotalMomentum=(0,0,0)\n",
    "                leadMomentum = 0\n",
    "                for c in constituents(j)\n",
    "                    nCon+=1\n",
    "                    index=FastJet.user_index(c)\n",
    "                    if nCon==1\n",
    "                        jetTotalMomentum=jetConstituentP(c)\n",
    "                    elseif nCon>1\n",
    "                        jetTotalMomentum=jetTotalMomentum.+jetConstituentP(c)\n",
    "                    end\n",
    "                    if nCon==leadingParticleIndex(j)\n",
    "                        leadMomentum = sqrt(dot((FastJet.px(c), FastJet.py(c), FastJet.pz(c)),\n",
    "                            (FastJet.px(c), FastJet.py(c), FastJet.pz(c)))+10^(-10))\n",
    "                        MCParticle = mcp[index]\n",
    "                        pdg=getPDG(MCParticle)\n",
    "                        if abs(pdg)==13\n",
    "                            continue\n",
    "                        end\n",
    "                        if abs(pdg)==211\n",
    "                            for parent in getParents(MCParticle)\n",
    "                                if abs(getPDG(parent))==130\n",
    "                                    push!(gg_kShortInPiPiEventList_MC, iEvent)\n",
    "                                end\n",
    "                            end\n",
    "                        end\n",
    "                        if abs(pdg)==2212\n",
    "                            for parent in getParents(MCParticle)\n",
    "                                if abs(getPDG(parent))==3312\n",
    "                                    push!(gg_lambdaInProtonEventList_MC, iEvent)\n",
    "                                end\n",
    "                            end\n",
    "                        end\n",
    "                        push!(gg_MCleadPDG, pdg)\n",
    "                    end\n",
    "                end\n",
    "            end\n",
    "            if FastJet.n_particles(MCcs)<0\n",
    "                print(\"你好！\")\n",
    "            end\n",
    "            \n",
    "            #reconstructed particle loop\n",
    "            rp = getCollection(event, \"PandoraPFOs\")\n",
    "            recoLinks = getCollection(event, \"RecoMCTruthLink\")\n",
    "            rel=LCIO.LCRelationNavigator(recoLinks)\n",
    "            iRPParticle = 0\n",
    "            RPparticles = PseudoJet[]\n",
    "            for RPparticle in rp\n",
    "                iRPParticle += 1\n",
    "                #if getGeneratorStatus(RPparticle) != 1\n",
    "                #    continue\n",
    "                #end\n",
    "                E = getEnergy(RPparticle)\n",
    "                p = getMomentum(RPparticle)\n",
    "                pj=PseudoJet(p[1], p[2], p[3], E)\n",
    "                set_user_index(pj, iRPParticle)\n",
    "                push!(RPparticles, pj)\n",
    "            end\n",
    "            RPcs = ClusterSequence(StdVector(RPparticles), jet_def)\n",
    "            RPjets = exclusive_jets(RPcs, 2)\n",
    "            nRPJet=0\n",
    "            for j in RPjets\n",
    "                nRPJet+=1\n",
    "                nCon=0\n",
    "                jetTotalMomentum=(0,0,0)\n",
    "                leadMomentum = 0\n",
    "                for c in constituents(j)\n",
    "                    nCon+=1\n",
    "                    index=FastJet.user_index(c)\n",
    "                    if nCon==1\n",
    "                        jetTotalMomentum=jetConstituentP(c)\n",
    "                    elseif nCon>1\n",
    "                        jetTotalMomentum=jetTotalMomentum.+jetConstituentP(c)\n",
    "                    end\n",
    "                    if nCon==leadingParticleIndex(j)\n",
    "                        leadMomentum = sqrt(dot((FastJet.px(c), FastJet.py(c), FastJet.pz(c)),\n",
    "                            (FastJet.px(c), FastJet.py(c), FastJet.pz(c)))+10^(-10))\n",
    "                        RP = rp[index]\n",
    "                        mcpList = getRelatedToObjects(rel, RP)\n",
    "                        if length(mcpList)>0\n",
    "                            pdg=getPDG(mcpList[1])\n",
    "                            if abs(pdg)==13\n",
    "                                continue\n",
    "                            end\n",
    "                            if abs(pdg)==211\n",
    "                                for parent in getParents(mcpList[1])\n",
    "                                    if abs(getPDG(parent))==130\n",
    "                                        push!(gg_kShortInPiPiEventList_PFO, iEvent)\n",
    "                                    end\n",
    "                                end\n",
    "                            end\n",
    "                            push!(gg_PFOleadPDG, pdg)\n",
    "                            if abs(pdg)==2212\n",
    "                                for parent in getParents(mcpList[1])\n",
    "                                    if abs(getPDG(parent))==3312\n",
    "                                        push!(gg_lambdaInProtonEventList_PFO, iEvent)\n",
    "                                    end\n",
    "                                end\n",
    "                            end\n",
    "                        end\n",
    "                        #invMassRP = sqrt(getEnergy(RP)^2+leadMomentum^2)\n",
    "                        #push!(PFOleadPDG, invMassRP)\n",
    "                    end\n",
    "                end\n",
    "            end\n",
    "            if FastJet.n_particles(RPcs)<0\n",
    "                print(\"你好！\")\n",
    "            end\n",
    "        end\n",
    "    end\n",
    "end"
   ]
  },
  {
   "cell_type": "code",
   "execution_count": 17,
   "metadata": {},
   "outputs": [
    {
     "name": "stdout",
     "output_type": "stream",
     "text": [
      "[\"̄{p}\", \"̄{n}\", \"K⁻\", \"π⁻\", \"̄{ν}ₜₐᵤ\", \"̄{ν}ₘᵤ\", \"̄{ν}ₑ\", \"e⁺\", \"e⁻\", \"νₑ\", \"νₘᵤ\", \"γ\", \"Kₗ⁰\", \"π⁺\", \"K⁺\", \"n\", \"p\"]"
     ]
    },
    {
     "data": {
      "image/png": "[encoded data removed]"
     },
     "execution_count": 17,
     "metadata": {},
     "output_type": "execute_result"
    }
   ],
   "source": [
    "gg_MC_y=gg_MCleadPDG\n",
    "gg_MC_u=sort(unique(gg_MC_y))\n",
    "gg_MC_d=Dict([(i,count(x->x==i,gg_MC_y)) for i in gg_MC_u])\n",
    "gg_MC_vals = [gg_MC_d[i] for i in gg_MC_u]\n",
    "gg_MC_Names = Dict([(i, (Particle(convert(Int64, i)).latex)) for i in gg_MC_u])\n",
    "gg_MC_latex = [(gg_MC_Names[convert(Int32, i)]) for i in gg_MC_u]\n",
    "gg_MC_edit_latex=[\"\\\\bar{p}\", \"\\\\bar{n}\", \"K^{-}\", \"\\\\pi^{-}\", \"\\\\bar{\\\\nu}_{tau}\", \"\\\\bar{\\\\nu}_{mu}\", \"\\\\bar{\\\\nu}_{e}\", \"e^{+}\", \"e^{-}\", \"\\\\nu_{e}\", \"\\\\nu_{mu}\", \"\\\\gamma\", \"K_{l}^{0}\", \"\\\\pi^{+}\", \"K^{+}\", \"n\", \"p\"]\n",
    "gg_MC_x_axis_names=[to_latex(gg_MC_edit_latex[i]) for i in 1:length(gg_MC_edit_latex)]\n",
    "print(gg_MC_x_axis_names)\n",
    "StatsPlots.bar(gg_MC_vals, ylabel=\"Frequency\", title=\"Highest Momentum in Jet Particle Types - MC Particle\", legend=false)\n",
    "#print(gg_MC_latex)\n",
    "#print(to_latex(printed_latex[1]))\n",
    "#print(edit_latex)\n",
    "#print(numbers)\n",
    "#numbers = [\"$(gg_MC_u[i])\" for i in 1:length(gg_MC_u)]\n",
    "\n",
    "#StatsPlots.savefig(\"gg_MCleadParticle.pdf\")\n",
    "#Names = Dict(-11 => \"e^{+}\",211 => \"\\\\pi^{+}\",11 => \"e^{-}\",2212 => \"p\",-2212 => \"p\",-211 => \"\\\\pi^{-}\",130 => \"K_{l}^{0}\",321 => \"K^{+}\",22 => \"\\\\gamma\",2112 => \"n\",-321 => \"K^{-}\",-2112 => \"\\\\barn\",-13 => \"\\\\mu^{+}\", 13 => \"\\\\mu^{-}\",-14 => \"\\\\overbarv_{u}\")"
   ]
  },
  {
   "cell_type": "code",
   "execution_count": 18,
   "metadata": {},
   "outputs": [
    {
     "name": "stdout",
     "output_type": "stream",
     "text": [
      "̄{Ξ}⁺"
     ]
    },
    {
     "data": {
      "image/png": "[encoded data removed]"
     },
     "execution_count": 18,
     "metadata": {},
     "output_type": "execute_result"
    }
   ],
   "source": [
    "gg_RP_y=gg_PFOleadPDG\n",
    "gg_RP_u=sort(unique(gg_RP_y))\n",
    "gg_RP_d=Dict([(i,count(x->x==i,gg_RP_y)) for i in gg_RP_u])\n",
    "gg_RP_vals = [gg_RP_d[i] for i in gg_RP_u]\n",
    "gg_RP_Names = Dict([(i, (Particle(convert(Int64, i)).latex)) for i in gg_RP_u])\n",
    "gg_RP_latex = [(gg_RP_Names[convert(Int32, i)]) for i in gg_RP_u]\n",
    "gg_RP_edit_latex=[\"\\\\bar{\\\\Xi}^{0}\", \"\\\\bar{\\\\Xi}^{+}\", \"\\\\bar{\\\\Sigma}^{-}\", \"\\\\bar{Lambda}\", \"\\\\bar{\\\\Sigma}^{+}\", \"\\\\bar{p}\", \"\\\\bar{n}\", \"K^{-}\", \"\\\\pi^{-}\", \"e^{+}\", \"e^{-}\", \"\\\\nu_{mu}\", \"\\\\gamma\", \"K_{l}^{0}\", \"\\\\pi^{+}\", \"K_{s}^{0}\", \"K^{+}\", \"n\", \"p\", \"\\\\Sigma^{-}\", \"\\\\Lambda\", \"\\\\Sigma^{+}\", \"\\\\Xi^{-}\", \"\\\\Xi^{0}\"]\n",
    "gg_RP_x_axis_names=[to_latex(gg_RP_edit_latex[i]) for i in 1:length(gg_RP_edit_latex)]\n",
    "print(gg_RP_x_axis_names[2])\n",
    "StatsPlots.bar(gg_RP_vals, ylabel=\"Frequency\", title=\"Highest Momentum in Jet Particle Types - RP Particle\", legend=false)\n",
    "#groupedbar(gg_RP_x_axis_names, gg_RP_vals)\n",
    "#print(gg_RP_latex)\n",
    "#print(to_latex(printed_latex[1]))\n",
    "#print(edit_latex)\n",
    "#print(numbers)\n",
    "#numbers = [\"$(gg_RP_u[i])\" for i in 1:length(gg_RP_u)]\n",
    "\n",
    "#StatsPlots.savefig(\"gg_RPleadParticle.pdf\")\n",
    "#Names = Dict(-11 => \"e^{+}\",211 => \"\\\\pi^{+}\",11 => \"e^{-}\",2212 => \"p\",-2212 => \"p\",-211 => \"\\\\pi^{-}\",130 => \"K_{l}^{0}\",321 => \"K^{+}\",22 => \"\\\\gamma\",2112 => \"n\",-321 => \"K^{-}\",-2112 => \"\\\\barn\",-13 => \"\\\\mu^{+}\", 13 => \"\\\\mu^{-}\",-14 => \"\\\\overbarv_{u}\")"
   ]
  },
  {
   "cell_type": "code",
   "execution_count": 19,
   "metadata": {},
   "outputs": [
    {
     "data": {
      "image/png": "[encoded data removed]",
      "text/plain": [
       "PyPlot.Figure(PyObject <Figure size 600x400 with 8 Axes>)"
      ]
     },
     "metadata": {},
     "output_type": "display_data"
    }
   ],
   "source": [
    "#plot(title=\"Lead Momentum Particle per Jet - MC Truth and Pandora PFO\")\n",
    "\n",
    "ss_MC_Names=[]\n",
    "for key in ss_MC_u\n",
    "    push!(ss_MC_Names, latexstring(Particle(convert(Int64, key)).latex))\n",
    "end\n",
    "ss_RP_Names=[]\n",
    "for key in ss_RP_u\n",
    "    push!(ss_RP_Names, latexstring(Particle(convert(Int64, key)).latex))\n",
    "end\n",
    "bb_MC_Names=[]\n",
    "for key in bb_MC_u\n",
    "    push!(bb_MC_Names, latexstring(Particle(convert(Int64, key)).latex))\n",
    "end\n",
    "bb_RP_Names=[]\n",
    "for key in bb_RP_u\n",
    "    push!(bb_RP_Names, latexstring(Particle(convert(Int64, key)).latex))\n",
    "end\n",
    "cc_MC_Names=[]\n",
    "for key in cc_MC_u\n",
    "    push!(cc_MC_Names, latexstring(Particle(convert(Int64, key)).latex))\n",
    "end\n",
    "cc_RP_Names=[]\n",
    "for key in cc_RP_u\n",
    "    push!(cc_RP_Names, latexstring(Particle(convert(Int64, key)).latex))\n",
    "end\n",
    "gg_MC_Names=[]\n",
    "for key in gg_MC_u\n",
    "    push!(gg_MC_Names, latexstring(Particle(convert(Int64, key)).latex))\n",
    "end\n",
    "gg_RP_Names=[]\n",
    "for key in gg_RP_u\n",
    "    push!(gg_RP_Names, latexstring(Particle(convert(Int64, key)).latex))\n",
    "end\n",
    "\n",
    "plot(\n",
    "    StatsPlots.bar(ss_MC_Names, ss_MC_vals, ylabel=\"ss - MC\"),\n",
    "    StatsPlots.bar(ss_RP_Names, ss_RP_vals, ylabel=\"ss - PFO\"),\n",
    "    StatsPlots.bar(bb_MC_Names, bb_MC_vals, ylabel=\"bb - MC\"),\n",
    "    StatsPlots.bar(bb_RP_Names, bb_RP_vals, ylabel=\"bb - PFO\"),\n",
    "    StatsPlots.bar(cc_MC_Names, cc_MC_vals, ylabel=\"cc - MC\"),\n",
    "    StatsPlots.bar(cc_RP_Names, cc_RP_vals, ylabel=\"cc - PFO\"),\n",
    "    StatsPlots.bar(gg_MC_Names, gg_MC_vals, ylabel=\"gg - MC\"),\n",
    "    StatsPlots.bar(gg_RP_Names, gg_RP_vals, ylabel=\"gg - PFO\"),\n",
    "    layout=(4,2),\n",
    "    legend=false,\n",
    "    )\n",
    "savefig(\"leadBreakdown.png\")"
   ]
  },
  {
   "cell_type": "code",
   "execution_count": 20,
   "metadata": {},
   "outputs": [
    {
     "name": "stdout",
     "output_type": "stream",
     "text": [
      "-3322"
     ]
    },
    {
     "data": {
      "text/plain": [
       "8461"
      ]
     },
     "execution_count": 20,
     "metadata": {},
     "output_type": "execute_result"
    }
   ],
   "source": [
    "cm_gg_RP=countmap(gg_RP_y)\n",
    "print(minimum(gg_RP_y))\n",
    "total_gg_RP=sum(cm_gg_RP[i] for i in keys(cm_gg_RP))"
   ]
  },
  {
   "cell_type": "code",
   "execution_count": 21,
   "metadata": {},
   "outputs": [
    {
     "data": {
      "text/plain": [
       "Dict{Any,Int64} with 24 entries:\n",
       "  310   => 50\n",
       "  -11   => 31\n",
       "  211   => 1830\n",
       "  11    => 39\n",
       "  2212  => 377\n",
       "  3112  => 29\n",
       "  -2212 => 389\n",
       "  -211  => 1791\n",
       "  130   => 458\n",
       "  321   => 537\n",
       "  3322  => 2\n",
       "  -3122 => 41\n",
       "  22    => 1497\n",
       "  2112  => 305\n",
       "  -3312 => 13\n",
       "  -321  => 499\n",
       "  3222  => 27\n",
       "  -2112 => 437\n",
       "  -3112 => 28\n",
       "  -3322 => 3\n",
       "  3122  => 33\n",
       "  14    => 1\n",
       "  -3222 => 28\n",
       "  3312  => 16"
      ]
     },
     "execution_count": 21,
     "metadata": {},
     "output_type": "execute_result"
    }
   ],
   "source": [
    "cm_ss_MC=countmap(ss_MC_y)\n",
    "cm_ss_RP=countmap(ss_RP_y)\n",
    "cm_bb_MC=countmap(bb_MC_y)\n",
    "cm_bb_RP=countmap(bb_RP_y)\n",
    "cm_cc_MC=countmap(cc_MC_y)\n",
    "cm_cc_RP=countmap(cc_RP_y)\n",
    "cm_gg_MC=countmap(gg_MC_y)\n",
    "cm_gg_RP=countmap(gg_RP_y)"
   ]
  },
  {
   "cell_type": "code",
   "execution_count": 22,
   "metadata": {},
   "outputs": [
    {
     "data": {
      "image/png": "[encoded data removed]"
     },
     "execution_count": 22,
     "metadata": {},
     "output_type": "execute_result"
    }
   ],
   "source": [
    "MC_all_values=Dict{Int, Array{Float64, 1}}()\n",
    "\n",
    "MC_sample_list=[cm_ss_MC, cm_bb_MC, cm_cc_MC, cm_gg_MC]\n",
    "RP_sample_list=[cm_ss_RP, cm_bb_RP, cm_cc_RP, cm_gg_RP]\n",
    "\n",
    "MC_key_list=Int64[]\n",
    "for sample in MC_sample_list\n",
    "    for k in keys(sample)\n",
    "        push!(MC_key_list, k)\n",
    "    end\n",
    "end\n",
    "\n",
    "MC_key_set=Set(MC_key_list)\n",
    "#print(key_set)\n",
    "for key in MC_key_set\n",
    "    MC_all_values[key]=Int64[]\n",
    "    for sample in MC_sample_list\n",
    "        total_value=0\n",
    "        for sample_key in keys(sample)\n",
    "            total_value+=get(sample, sample_key,  0)\n",
    "        end\n",
    "        push!(MC_all_values[key], get(sample, key, 0)/total_value)\n",
    "    end\n",
    "end\n",
    "\n",
    "MC_grouped_data = hcat([MC_all_values[i] for i in MC_key_set]...)'\n",
    "event_type =  repeat([L\"$s\\bar{s}$\", L\"$b\\bar{b}$\", L\"$c\\bar{c}$\", L\"$g\\bar{g}$\"], inner = length(MC_key_set))\n",
    "MC_key_latex=[]\n",
    "for key in MC_key_set\n",
    "    push!(MC_key_latex, latexstring(Particle(key).latex))\n",
    "end\n",
    "MC_names=repeat(MC_key_latex, outer=4)\n",
    "groupedbar(MC_names, MC_grouped_data, group=event_type,  #this graph isnt the input data and i have clue why\n",
    "    xlabel=\"Particle Type\", ylabel=\"Frequency as Leading Momentum in Jet\", title=\"Leading Momentum Particle in MC Samples\", lw=0)"
   ]
  },
  {
   "cell_type": "code",
   "execution_count": 23,
   "metadata": {},
   "outputs": [
    {
     "data": {
      "image/png": "[encoded data removed]"
     },
     "execution_count": 23,
     "metadata": {},
     "output_type": "execute_result"
    }
   ],
   "source": [
    "RP_all_values=Dict{Int, Array{Float64, 1}}()\n",
    "\n",
    "RP_sample_list=[cm_ss_RP, cm_bb_RP, cm_cc_RP, cm_gg_RP]\n",
    "\n",
    "RP_key_list=Int64[]\n",
    "for sample in RP_sample_list\n",
    "    for k in keys(sample)\n",
    "        push!(RP_key_list, k)\n",
    "    end\n",
    "end\n",
    "\n",
    "RP_key_set=Set(RP_key_list)\n",
    "#print(key_set)\n",
    "for key in RP_key_set\n",
    "    RP_all_values[key]=Int64[]\n",
    "    for sample in RP_sample_list\n",
    "        total_value=0\n",
    "        for sample_key in keys(sample)\n",
    "            total_value+=get(sample, sample_key,  0)\n",
    "        end\n",
    "        push!(RP_all_values[key], get(sample, key, 0)/total_value)\n",
    "    end\n",
    "end\n",
    "\n",
    "RP_grouped_data = hcat([RP_all_values[i] for i in RP_key_set]...)'\n",
    "event_type =  repeat([L\"$s\\bar{s}$\", L\"$b\\bar{b}$\", L\"$c\\bar{c}$\", L\"$g\\bar{g}$\"], inner = length(RP_key_set))\n",
    "RP_key_latex=[]\n",
    "for key in RP_key_set\n",
    "    push!(RP_key_latex, latexstring(Particle(key).latex))\n",
    "end\n",
    "RP_names=repeat(RP_key_latex, outer=4)\n",
    "groupedbar(RP_names, RP_grouped_data, group=event_type, \n",
    "    xlabel=\"Particle Type\", ylabel=\"Frequency as Leading Momentum in Jet\", title=\"Leading Momentum Particle in RP Samples\", lw=0)"
   ]
  },
  {
   "cell_type": "code",
   "execution_count": 24,
   "metadata": {},
   "outputs": [
    {
     "name": "stdout",
     "output_type": "stream",
     "text": [
      "[-321, -2112, -14, -16, -11, 211, 16, 11, 2212, -2212]"
     ]
    },
    {
     "data": {
      "application/vnd.dataresource+json": {
       "data": [
        {
         "MC_bb": 0.07895371263259403,
         "MC_cc": 0.11072704228597764,
         "MC_gg": 0.06128440366972477,
         "MC_ss": 0.12981298129812982,
         "Particle": "$K^{-}$"
        },
        {
         "MC_bb": 0.021335583413693345,
         "MC_cc": 0.023505012098167993,
         "MC_gg": 0.05003058103975535,
         "MC_ss": 0.022002200220022004,
         "Particle": "$\\bar{n}$"
        },
        {
         "MC_bb": 0.023987463837994213,
         "MC_cc": 0.00841110727042286,
         "MC_gg": 0.001834862385321101,
         "MC_ss": 0.0011001100110011,
         "Particle": "$\\bar{\\nu}_{\\mu}$"
        },
        {
         "MC_bb": 0.007473481195756991,
         "MC_cc": 0.00011522064754003918,
         "MC_gg": 0.00012232415902140674,
         "MC_ss": 0,
         "Particle": "$\\bar{\\nu}_{\\tau}$"
        },
        {
         "MC_bb": 0.02688042430086789,
         "MC_cc": 0.0063371356147021544,
         "MC_gg": 0.0015902140672782875,
         "MC_ss": 0,
         "Particle": "$e^{+}$"
        },
        {
         "MC_bb": 0.19346673095467695,
         "MC_cc": 0.19161193685908515,
         "MC_gg": 0.21981651376146788,
         "MC_ss": 0.17381738173817382,
         "Particle": "$\\pi^{+}$"
        },
        {
         "MC_bb": 0.007111861137897782,
         "MC_cc": 0.00011522064754003918,
         "MC_gg": 0,
         "MC_ss": 0,
         "Particle": "$\\nu_{\\tau}$"
        },
        {
         "MC_bb": 0.023746383799421407,
         "MC_cc": 0.008526327917962899,
         "MC_gg": 0.0019571865443425078,
         "MC_ss": 0,
         "Particle": "$e^{-}$"
        },
        {
         "MC_bb": 0.02579556412729026,
         "MC_cc": 0.032031340016130894,
         "MC_gg": 0.05333333333333334,
         "MC_ss": 0.0374037403740374,
         "Particle": "$p$"
        },
        {
         "MC_bb": 0.0235053037608486,
         "MC_cc": 0.03226178131121097,
         "MC_gg": 0.051498470948012236,
         "MC_ss": 0.039603960396039604,
         "Particle": "$\\bar{p}$"
        }
       ],
       "schema": {
        "fields": [
         {
          "name": "Particle",
          "type": "string"
         },
         {
          "name": "MC_ss",
          "type": "number"
         },
         {
          "name": "MC_bb",
          "type": "number"
         },
         {
          "name": "MC_cc",
          "type": "number"
         },
         {
          "name": "MC_gg",
          "type": "number"
         }
        ]
       }
      },
      "text/html": [
       "<table><thead><tr><th>Particle</th><th>MC_ss</th><th>MC_bb</th><th>MC_cc</th><th>MC_gg</th></tr></thead><tbody><tr><td>L&quot;&#36;K^&#123;-&#125;&#36;&quot;</td><td>0.129813</td><td>0.0789537</td><td>0.110727</td><td>0.0612844</td></tr><tr><td>L&quot;&#36;\\bar&#123;n&#125;&#36;&quot;</td><td>0.0220022</td><td>0.0213356</td><td>0.023505</td><td>0.0500306</td></tr><tr><td>L&quot;&#36;\\bar&#123;\\nu&#125;_&#123;\\mu&#125;&#36;&quot;</td><td>0.00110011</td><td>0.0239875</td><td>0.00841111</td><td>0.00183486</td></tr><tr><td>L&quot;&#36;\\bar&#123;\\nu&#125;_&#123;\\tau&#125;&#36;&quot;</td><td>0.0</td><td>0.00747348</td><td>0.000115221</td><td>0.000122324</td></tr><tr><td>L&quot;&#36;e^&#123;&#43;&#125;&#36;&quot;</td><td>0.0</td><td>0.0268804</td><td>0.00633714</td><td>0.00159021</td></tr><tr><td>L&quot;&#36;\\pi^&#123;&#43;&#125;&#36;&quot;</td><td>0.173817</td><td>0.193467</td><td>0.191612</td><td>0.219817</td></tr><tr><td>L&quot;&#36;\\nu_&#123;\\tau&#125;&#36;&quot;</td><td>0.0</td><td>0.00711186</td><td>0.000115221</td><td>0.0</td></tr><tr><td>L&quot;&#36;e^&#123;-&#125;&#36;&quot;</td><td>0.0</td><td>0.0237464</td><td>0.00852633</td><td>0.00195719</td></tr><tr><td>L&quot;&#36;p&#36;&quot;</td><td>0.0374037</td><td>0.0257956</td><td>0.0320313</td><td>0.0533333</td></tr><tr><td>L&quot;&#36;\\bar&#123;p&#125;&#36;&quot;</td><td>0.039604</td><td>0.0235053</td><td>0.0322618</td><td>0.0514985</td></tr></tbody></table>"
      ],
      "text/plain": [
       "10x5 DataTable\n",
       "Particle           │ MC_ss      │ MC_bb      │ MC_cc       │ MC_gg      \n",
       "───────────────────┼────────────┼────────────┼─────────────┼────────────\n",
       "$K^{-}$            │ 0.129813   │ 0.0789537  │ 0.110727    │ 0.0612844  \n",
       "$\\bar{n}$          │ 0.0220022  │ 0.0213356  │ 0.023505    │ 0.0500306  \n",
       "$\\bar{\\nu}_{\\mu}$  │ 0.00110011 │ 0.0239875  │ 0.00841111  │ 0.00183486 \n",
       "$\\bar{\\nu}_{\\tau}$ │ 0.0        │ 0.00747348 │ 0.000115221 │ 0.000122324\n",
       "$e^{+}$            │ 0.0        │ 0.0268804  │ 0.00633714  │ 0.00159021 \n",
       "$\\pi^{+}$          │ 0.173817   │ 0.193467   │ 0.191612    │ 0.219817   \n",
       "$\\nu_{\\tau}$       │ 0.0        │ 0.00711186 │ 0.000115221 │ 0.0        \n",
       "$e^{-}$            │ 0.0        │ 0.0237464  │ 0.00852633  │ 0.00195719 \n",
       "$p$                │ 0.0374037  │ 0.0257956  │ 0.0320313   │ 0.0533333  \n",
       "$\\bar{p}$          │ 0.039604   │ 0.0235053  │ 0.0322618   │ 0.0514985  "
      ]
     },
     "execution_count": 24,
     "metadata": {},
     "output_type": "execute_result"
    }
   ],
   "source": [
    "#relevant_key=[130, 310, 321, -321, 3211]\n",
    "relevant_key=[MC_key_list[i] for i in 9:length(MC_key_set)]\n",
    "for key in relevant_key\n",
    "    if key in MC_key_set\n",
    "        continue\n",
    "    else\n",
    "        filter!(e->e≠key,relevant_key)\n",
    "    end\n",
    "end\n",
    "\n",
    "print(relevant_key)\n",
    "\n",
    "MC_dt_Names=[]\n",
    "for key in relevant_key\n",
    "    push!(MC_dt_Names, latexstring(Particle(key).latex))\n",
    "end\n",
    "\n",
    "DataTable(Particle=MC_dt_Names, \n",
    "    MC_ss=[MC_all_values[pdg][1] for pdg in relevant_key],\n",
    "    MC_bb=[MC_all_values[pdg][2] for pdg in relevant_key],\n",
    "    MC_cc=[MC_all_values[pdg][3] for pdg in relevant_key],\n",
    "    MC_gg=[MC_all_values[pdg][4] for pdg in relevant_key],\n",
    ")\n"
   ]
  },
  {
   "cell_type": "code",
   "execution_count": 25,
   "metadata": {},
   "outputs": [
    {
     "name": "stdout",
     "output_type": "stream",
     "text": [
      "[-3112, -3322, 3122, -3222, 3312, 310]"
     ]
    },
    {
     "data": {
      "application/vnd.dataresource+json": {
       "data": [
        {
         "Particle": "$\\bar{\\Sigma}^{+}$",
         "RP_bb": 0.0012306177701206006,
         "RP_cc": 0.0015905476028175414,
         "RP_gg": 0.0033093015010046095,
         "RP_ss": 0.004268943436499467
        },
        {
         "Particle": "$\\bar{\\Xi}^{0}$",
         "RP_bb": 0.0007383706620723603,
         "RP_cc": 0.0009088843444671666,
         "RP_gg": 0.00035456801796477955,
         "RP_ss": 0.0032017075773745998
        },
        {
         "Particle": "$\\Lambda$",
         "RP_bb": 0.002707359094265321,
         "RP_cc": 0.004658032265394229,
         "RP_gg": 0.0039002481976125754,
         "RP_ss": 0.011739594450373533
        },
        {
         "Particle": "$\\bar{\\Sigma}^{-}$",
         "RP_bb": 0.0017228648781688408,
         "RP_cc": 0.002953874119518291,
         "RP_gg": 0.0033093015010046095,
         "RP_ss": 0.0010672358591248667
        },
        {
         "Particle": "$\\Xi^{-}$",
         "RP_bb": 0.0014767413241447206,
         "RP_cc": 0.0015905476028175414,
         "RP_gg": 0.001891029429145491,
         "RP_ss": 0.005336179295624333
        },
        {
         "Particle": "$K_{S}^{0}$",
         "RP_bb": 0.008860447944868325,
         "RP_cc": 0.018632129061576914,
         "RP_gg": 0.005909466966079659,
         "RP_ss": 0.030949839914621132
        }
       ],
       "schema": {
        "fields": [
         {
          "name": "Particle",
          "type": "string"
         },
         {
          "name": "RP_ss",
          "type": "number"
         },
         {
          "name": "RP_bb",
          "type": "number"
         },
         {
          "name": "RP_cc",
          "type": "number"
         },
         {
          "name": "RP_gg",
          "type": "number"
         }
        ]
       }
      },
      "text/html": [
       "<table><thead><tr><th>Particle</th><th>RP_ss</th><th>RP_bb</th><th>RP_cc</th><th>RP_gg</th></tr></thead><tbody><tr><td>L&quot;&#36;\\bar&#123;\\Sigma&#125;^&#123;&#43;&#125;&#36;&quot;</td><td>0.00426894</td><td>0.00123062</td><td>0.00159055</td><td>0.0033093</td></tr><tr><td>L&quot;&#36;\\bar&#123;\\Xi&#125;^&#123;0&#125;&#36;&quot;</td><td>0.00320171</td><td>0.000738371</td><td>0.000908884</td><td>0.000354568</td></tr><tr><td>L&quot;&#36;\\Lambda&#36;&quot;</td><td>0.0117396</td><td>0.00270736</td><td>0.00465803</td><td>0.00390025</td></tr><tr><td>L&quot;&#36;\\bar&#123;\\Sigma&#125;^&#123;-&#125;&#36;&quot;</td><td>0.00106724</td><td>0.00172286</td><td>0.00295387</td><td>0.0033093</td></tr><tr><td>L&quot;&#36;\\Xi^&#123;-&#125;&#36;&quot;</td><td>0.00533618</td><td>0.00147674</td><td>0.00159055</td><td>0.00189103</td></tr><tr><td>L&quot;&#36;K_&#123;S&#125;^&#123;0&#125;&#36;&quot;</td><td>0.0309498</td><td>0.00886045</td><td>0.0186321</td><td>0.00590947</td></tr></tbody></table>"
      ],
      "text/plain": [
       "6x5 DataTable\n",
       "Particle           │ RP_ss      │ RP_bb       │ RP_cc       │ RP_gg      \n",
       "───────────────────┼────────────┼─────────────┼─────────────┼────────────\n",
       "$\\bar{\\Sigma}^{+}$ │ 0.00426894 │ 0.00123062  │ 0.00159055  │ 0.0033093  \n",
       "$\\bar{\\Xi}^{0}$    │ 0.00320171 │ 0.000738371 │ 0.000908884 │ 0.000354568\n",
       "$\\Lambda$          │ 0.0117396  │ 0.00270736  │ 0.00465803  │ 0.00390025 \n",
       "$\\bar{\\Sigma}^{-}$ │ 0.00106724 │ 0.00172286  │ 0.00295387  │ 0.0033093  \n",
       "$\\Xi^{-}$          │ 0.00533618 │ 0.00147674  │ 0.00159055  │ 0.00189103 \n",
       "$K_{S}^{0}$        │ 0.0309498  │ 0.00886045  │ 0.0186321   │ 0.00590947 "
      ]
     },
     "execution_count": 25,
     "metadata": {},
     "output_type": "execute_result"
    }
   ],
   "source": [
    "#relevant_key=[130, 310, 321, -321, 3211]\n",
    "relevant_key=[RP_key_list[i] for i in 19:length(RP_key_set)]\n",
    "for key in relevant_key\n",
    "    if key in RP_key_set\n",
    "        continue\n",
    "    else\n",
    "        filter!(e->e≠key,relevant_key)\n",
    "    end\n",
    "end\n",
    "\n",
    "print(relevant_key)\n",
    "\n",
    "RP_dt_Names=[]\n",
    "for key in relevant_key\n",
    "    push!(RP_dt_Names, latexstring(Particle(key).latex))\n",
    "end\n",
    "\n",
    "DataTable(Particle=RP_dt_Names, \n",
    "    RP_ss=[RP_all_values[pdg][1] for pdg in relevant_key],\n",
    "    RP_bb=[RP_all_values[pdg][2] for pdg in relevant_key],\n",
    "    RP_cc=[RP_all_values[pdg][3] for pdg in relevant_key],\n",
    "    RP_gg=[RP_all_values[pdg][4] for pdg in relevant_key],\n",
    ")"
   ]
  },
  {
   "cell_type": "markdown",
   "metadata": {},
   "source": [
    "fix whatever is wrong with the normalization. good nuf'\\\n",
    "xaxis. yup\\\n",
    "look at strange hadrons (k's and lambdas)\\\n",
    "-how many occur in each sample? yup\\\n",
    "-throw out events with none -> whats the efficiency? yup\\ \n",
    "-look at jets: how many do we throw out if we throw out events w/out strange hadron in each jet? yup\\\n",
    "-relative contribution of charged kaons vs other strange hadrons\\\n",
    "-how effective is that?\\\n",
    "z finder on these files"
   ]
  },
  {
   "cell_type": "code",
   "execution_count": null,
   "metadata": {},
   "outputs": [],
   "source": []
  },
  {
   "cell_type": "code",
   "execution_count": 80,
   "metadata": {},
   "outputs": [
    {
     "name": "stdout",
     "output_type": "stream",
     "text": [
      "[26, 11][43, 1][0, 0][71, 7][0, 0][0, 0][24, 80][0, 0][0, 0][50, 49][41, 42][66, 65][0, 0][12, 68][86, 85][37, 3][0, 0][53, 54][48, 49][22, 3][44, 43][48, 1][1, 18][73, 7][48, 49][22, 2][30, 5][48, 49][0, 0][59, 60][0, 0][0, 0][1, 54][63, 64][39, 14][0, 0][61, 23][81, 82][9, 2][40, 41][0, 0][53, 1][0, 0][0, 0][57, 56][0, 0][0, 0][50, 14][2, 52][1, 66][0, 0][0, 0][42, 41][7, 49][0, 0][28, 27][68, 67][0, 0][59, 3][0, 0][53, 1][41, 40][7, 69][62, 61][30, 31][38, 39]"
     ]
    }
   ],
   "source": [
    "function zMuonIndices(event, threshold) #for certain events it returns an empty candidatePairs\n",
    "    \n",
    "    iParticle = 0\n",
    "    posMuonList = []\n",
    "    negMuonList = []\n",
    "    rp = getCollection(event, \"PandoraPFOs\")\n",
    "    recoLinks = getCollection(event, \"RecoMCTruthLink\")\n",
    "    rel=LCIO.LCRelationNavigator(recoLinks)\n",
    "    for particle in rp\n",
    "        mcp = getRelatedToObjects(rel, particle)\n",
    "        if length(mcp)>0\n",
    "            MCparticle=mcp[1]\n",
    "        else\n",
    "            continue\n",
    "        end\n",
    "        iParticle += 1\n",
    "        if abs(getPDG(MCparticle))==13 && getGeneratorStatus(MCparticle)==1\n",
    "            if getCharge(MCparticle)==1\n",
    "                push!(posMuonList, (particle, iParticle))\n",
    "            elseif getCharge(MCparticle)==-1\n",
    "                push!(negMuonList, (particle, iParticle))\n",
    "            end\n",
    "        end\n",
    "    end\n",
    "    \n",
    "    candidatePair=[]\n",
    "    \n",
    "    candidateDiff=91.187\n",
    "    for item_pos in posMuonList    \n",
    "        posParticle = item_pos[1]\n",
    "        for item_neg in negMuonList\n",
    "            negParticle = item_neg[1]\n",
    "            if abs(91.187-invMassSum(posParticle, negParticle))<abs(candidateDiff)\n",
    "                candidateDiff=91.187-invMassSum(posParticle, negParticle)\n",
    "                candidatePair=[item_pos, item_neg]\n",
    "            end\n",
    "        end\n",
    "    end\n",
    "    \n",
    "    if abs(candidateDiff)>threshold\n",
    "        indices=[0,0]\n",
    "    elseif length(candidatePair)>0\n",
    "        indices = [candidatePair[1][2], candidatePair[2][2]]\n",
    "    end\n",
    "    return indices\n",
    "end\n",
    "\n",
    "iFile=0\n",
    "for FILENAME in fileList_bb\n",
    "    #print(FILENAME)\n",
    "    if iFile>10\n",
    "        break\n",
    "    end\n",
    "    iFile+=1\n",
    "    LCIO.open(FILENAME) do reader\n",
    "        iEvent=0\n",
    "        for eventtt in reader\n",
    "            if iEvent>5\n",
    "                break\n",
    "            end\n",
    "            iEvent+=1\n",
    "            print(zMuonIndices(eventtt, 10))\n",
    "        end\n",
    "    end\n",
    "end"
   ]
  },
  {
   "cell_type": "code",
   "execution_count": 83,
   "metadata": {},
   "outputs": [],
   "source": [
    "sampleList=[fileList_ss, fileList_bb, fileList_bb, fileList_bb]\n",
    "strangeHadronPDG = [130, 310, 321]\n",
    "\n",
    "propEventsNSH=[] #NSH=no strange Hadron; only considers events if they contain k short, k long, or lambda\n",
    "percentListJetHasSH = []\n",
    "percentListHasJetLeaderSH = []\n",
    "percentListBothJetLeaderSH = []\n",
    "nStrangeHadronList=[]\n",
    "recoZMuonsListPerSample = []\n",
    "\n",
    "vp = FastJet.ValenciaPlugin(1.2, 0.8)\n",
    "jet_def = JetDefinition(vp)\n",
    "\n",
    "for fileList in sampleList\n",
    "    perFilePropEventsNSH = []\n",
    "    perFileJetNSH = []\n",
    "    perFileEventHasJetLeaderSH=[]\n",
    "    perFileEventBothJetLeaderSH=[]\n",
    "    nEventsPerSampleJetsNSH=[]\n",
    "    perFileHasJetLeaderSH = []\n",
    "    perFileBothJetLeaderSH = []\n",
    "    muonMasses=[]\n",
    "    nSignal=0\n",
    "    nSignalCutNSH=0\n",
    "    iFile=0\n",
    "    nEventsPerSampleSH=0\n",
    "    for FILENAME in fileList\n",
    "        iFile+=1\n",
    "        LCIO.open(FILENAME) do reader\n",
    "            nEventsSH=0\n",
    "            nJetsNSH=0\n",
    "            nEventHasJetLeaderSH=0\n",
    "            nEventBothJetLeaderSH=0\n",
    "            iEvent=0\n",
    "            for event in reader\n",
    "                zMuonIndex = zMuonIndices(event, 10)\n",
    "                iEvent+=1\n",
    "                if iEvent>100\n",
    "                    break\n",
    "                end\n",
    "                eventIsSignalNoCut=false\n",
    "                eventIsSignalCutNSH=false\n",
    "                eventHasSH=false\n",
    "                rp = getCollection(event, \"PandoraPFOs\")\n",
    "                recoLinks = getCollection(event, \"RecoMCTruthLink\")\n",
    "                rel=LCIO.LCRelationNavigator(recoLinks)\n",
    "                RPparticles = PseudoJet[]\n",
    "                \n",
    "                muon1=[]\n",
    "                muon2=[]\n",
    "                for (iRP, RP) in enumerate(rp)\n",
    "                    E = getEnergy(RP)\n",
    "                    p = getMomentum(RP)\n",
    "                    pj=PseudoJet(p[1], p[2], p[3], E)\n",
    "                    set_user_index(pj, iRP)\n",
    "                    push!(RPparticles, pj)\n",
    "                    mcp = getRelatedToObjects(rel, RP)\n",
    "                    MCParticle=mcp[1]\n",
    "                    \n",
    "                    if iRP in zMuonIndex && muon1==[]\n",
    "                        muon1=RP\n",
    "                    end\n",
    "                    if iRP in zMuonIndex && muon1!=[]\n",
    "                        muon2=RP\n",
    "                   end\n",
    "                    if abs(getPDG(MCParticle)) in strangeHadronPDG && getGeneratorStatus(MCParticle)==1 && eventHasSH==false\n",
    "                        eventHasSH=true\n",
    "                        nEventsSH+=1\n",
    "                    end\n",
    "                end\n",
    "                if muon1!=[] && muon2!=[]\n",
    "                    push!(muonMasses, invMassSum(muon1, muon2))\n",
    "                end\n",
    "                nEventsSH+=0\n",
    "                \n",
    "                RPcs = ClusterSequence(StdVector(RPparticles), jet_def)\n",
    "                RPjets = exclusive_jets(RPcs, 2)\n",
    "                nRPJet=0\n",
    "                jetWithoutSH = false\n",
    "                aJetLeaderIsSH = false\n",
    "                bothJetLeaderIsSH = false\n",
    "                for j in RPjets\n",
    "                    nRPJet+=1\n",
    "                    nCon=0\n",
    "                    aConstituentIsSH = false\n",
    "                    for c in constituents(j)\n",
    "                        nCon+=1\n",
    "                        index=FastJet.user_index(c)\n",
    "                        RP = rp[index]\n",
    "                        mcpList = getRelatedToObjects(rel, RP)\n",
    "                        if length(mcpList)>0\n",
    "                            MCParticle = mcpList[1]\n",
    "                            if abs(getPDG(MCParticle)) in strangeHadronPDG\n",
    "                                aConstituentIsSH=true\n",
    "                                if nRPJet==2 && nCon==leadingParticleIndex(j) && aJetLeaderIsSH==true #only can be this simple for 2 jets\n",
    "                                    bothJetLeaderIsSH=true\n",
    "                                end\n",
    "                                if nCon==leadingParticleIndex(j)\n",
    "                                    aJetLeaderIsSH=true\n",
    "                                end\n",
    "                            end\n",
    "                        end\n",
    "                            \n",
    "                    end\n",
    "                    if aConstituentIsSH==false\n",
    "                        jetWithoutSH=true\n",
    "                    end\n",
    "                end\n",
    "                if FastJet.n_particles(RPcs)<0\n",
    "                    print(\"你好！\")\n",
    "                end\n",
    "                if jetWithoutSH==true\n",
    "                    nJetsNSH+=1\n",
    "                end\n",
    "                if aJetLeaderIsSH==true\n",
    "                    nEventHasJetLeaderSH+=1\n",
    "                end\n",
    "                if bothJetLeaderIsSH==true\n",
    "                    nEventBothJetLeaderSH+=1\n",
    "                end\n",
    "                nEventsSH+=0\n",
    "            end\n",
    "            push!(perFilePropEventsNSH, nEventsSH/iEvent)\n",
    "            push!(perFileJetNSH, nJetsNSH/iEvent)\n",
    "            push!(perFileEventHasJetLeaderSH, nEventHasJetLeaderSH/iEvent)\n",
    "            push!(perFileEventBothJetLeaderSH, nEventBothJetLeaderSH/iEvent)\n",
    "            nEventsPerSampleSH+=nEventsSH\n",
    "        end\n",
    "    end\n",
    "    push!(propEventsNSH, mean(perFilePropEventsNSH))\n",
    "    push!(percentListJetHasSH, 1-mean(perFileJetNSH))\n",
    "    push!(percentListHasJetLeaderSH, mean(perFileEventHasJetLeaderSH))\n",
    "    push!(percentListBothJetLeaderSH, mean(perFileEventBothJetLeaderSH))\n",
    "    push!(nStrangeHadronList, nEventsPerSampleSH/iFile)\n",
    "    push!(recoZMuonsListPerSample, muonMasses)\n",
    "end\n",
    "                        \n",
    "                 "
   ]
  },
  {
   "cell_type": "code",
   "execution_count": 28,
   "metadata": {},
   "outputs": [
    {
     "data": {
      "text/plain": [
       "4-element Array{Any,1}:\n",
       " 98.0\n",
       " 97.5\n",
       " 97.5\n",
       " 97.5"
      ]
     },
     "execution_count": 28,
     "metadata": {},
     "output_type": "execute_result"
    }
   ],
   "source": [
    "propEventsNSH\n",
    "percentListJetHasSH\n",
    "percentListHasJetLeaderSH\n",
    "percentListBothJetLeaderSH\n",
    "nStrangeHadronList"
   ]
  },
  {
   "cell_type": "code",
   "execution_count": 29,
   "metadata": {},
   "outputs": [
    {
     "data": {
      "text/plain": [
       "4-element Array{Any,1}:\n",
       " 0.9702970297029703\n",
       " 0.965346534653466\n",
       " 0.965346534653466\n",
       " 0.965346534653466"
      ]
     },
     "execution_count": 29,
     "metadata": {},
     "output_type": "execute_result"
    }
   ],
   "source": [
    "propEventsNSH"
   ]
  },
  {
   "cell_type": "code",
   "execution_count": 34,
   "metadata": {},
   "outputs": [
    {
     "data": {
      "text/plain": [
       "4-element Array{Any,1}:\n",
       " 0.38613861386138615\n",
       " 0.38297029702970276\n",
       " 0.38297029702970276\n",
       " 0.38297029702970276"
      ]
     },
     "execution_count": 34,
     "metadata": {},
     "output_type": "execute_result"
    }
   ],
   "source": [
    "percentListJetHasSH"
   ]
  },
  {
   "cell_type": "code",
   "execution_count": 31,
   "metadata": {},
   "outputs": [
    {
     "data": {
      "text/plain": [
       "4-element Array{Any,1}:\n",
       " 0.43564356435643564\n",
       " 0.19198019801980187\n",
       " 0.19198019801980187\n",
       " 0.19198019801980187"
      ]
     },
     "execution_count": 31,
     "metadata": {},
     "output_type": "execute_result"
    }
   ],
   "source": [
    "percentListHasJetLeaderSH"
   ]
  },
  {
   "cell_type": "code",
   "execution_count": 32,
   "metadata": {},
   "outputs": [
    {
     "data": {
      "text/plain": [
       "4-element Array{Any,1}:\n",
       " 0.04950495049504951\n",
       " 0.0061386138613861415\n",
       " 0.0061386138613861415\n",
       " 0.0061386138613861415"
      ]
     },
     "execution_count": 32,
     "metadata": {},
     "output_type": "execute_result"
    }
   ],
   "source": [
    "percentListBothJetLeaderSH"
   ]
  },
  {
   "cell_type": "code",
   "execution_count": 130,
   "metadata": {},
   "outputs": [
    {
     "data": {
      "image/png": "[encoded data removed]"
     },
     "execution_count": 130,
     "metadata": {},
     "output_type": "execute_result"
    }
   ],
   "source": [
    "#how do i add one super title/xaxis/yaxis?\n",
    "p1=histogram(recoZMuonsListPerSample[1], title=L\"H$\\rightarrow s\\bar{s}$\")\n",
    "p2=histogram(recoZMuonsListPerSample[2], title=L\"H$\\rightarrow b\\bar{b}$\")\n",
    "p3=histogram(recoZMuonsListPerSample[3], title=L\"H$\\rightarrow c\\bar{c}$\")\n",
    "p4=histogram(recoZMuonsListPerSample[4], title=L\"H$\\rightarrow g\\bar{g}$\")\n",
    "p5=plot(p1, p2, p3, p4, layout=(2,2))\n",
    "\n",
    "plot(p5, \n",
    "    legend=false,\n",
    "    xlabel=L\"Mass ($\\frac{GeV}{c^{2}}$)\",\n",
    "    ylabel=\"Frequency\",\n",
    "    )"
   ]
  },
  {
   "cell_type": "code",
   "execution_count": null,
   "metadata": {},
   "outputs": [],
   "source": []
  },
  {
   "cell_type": "code",
   "execution_count": null,
   "metadata": {},
   "outputs": [],
   "source": []
  },
  {
   "cell_type": "code",
   "execution_count": null,
   "metadata": {},
   "outputs": [],
   "source": []
  }
 ],
 "metadata": {
  "kernelspec": {
   "display_name": "Julia 1.4.2",
   "language": "julia",
   "name": "julia-1.4"
  },
  "language_info": {
   "file_extension": ".jl",
   "mimetype": "application/julia",
   "name": "julia",
   "version": "1.4.2"
  }
 },
 "nbformat": 4,
 "nbformat_minor": 4
}
