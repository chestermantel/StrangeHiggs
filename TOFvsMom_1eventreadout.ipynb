{
 "cells": [
  {
   "cell_type": "code",
   "execution_count": 1,
   "metadata": {},
   "outputs": [
    {
     "name": "stderr",
     "output_type": "stream",
     "text": [
      "┌ Info: Precompiling Roots [f2b01f46-fcfa-551c-844a-d8ac1e96c665]\n",
      "└ @ Base loading.jl:1260\n"
     ]
    }
   ],
   "source": [
    "using LCIO\n",
    "using StatsPlots\n",
    "using JLD2\n",
    "using Roots\n",
    "using LinearAlgebra"
   ]
  },
  {
   "cell_type": "code",
   "execution_count": 2,
   "metadata": {},
   "outputs": [
    {
     "name": "stdout",
     "output_type": "stream",
     "text": [
      "processed 500 events\n",
      "processed 1000 events\n",
      "processed 1500 events\n",
      "processed 2000 events\n",
      "processed 2500 events\n",
      "processed 3000 events\n",
      "processed 3500 events\n",
      "processed 4000 events\n",
      "processed 4500 events\n",
      "processed 5000 events\n",
      "processed 5500 events\n",
      "processed 6000 events\n",
      "processed 6500 events\n",
      "processed 7000 events\n",
      "processed 7500 events\n",
      "processed 8000 events\n",
      "processed 8500 events\n",
      "processed 9000 events\n",
      "processed 9500 events\n",
      "processed 10000 events\n"
     ]
    }
   ],
   "source": [
    "#bottom quarks\n",
    "kaonTimesbb = Float64[]\n",
    "pionTimesbb = Float64[]\n",
    "kEnergy = Float64[]\n",
    "particlelist = []\n",
    "kThand = Float64[]\n",
    "pThand = Float64[]\n",
    "kMomentumbb = Float64[]\n",
    "pMomentumbb = Float64[]\n",
    "\n",
    "LCIO.open(\"/nfs/dust/ilc/user/jstrube/StrangeHiggs/data/bbReco_10000.slcio\") do reader\n",
    "\tfor (iEvent, event) in enumerate(reader)\n",
    "    \tcoll = getCollection(event, \"ECalBarrelHits\")\n",
    "\t\tdecode = CellIDDecoder(coll)\n",
    "        for hit in coll\n",
    "\t\t\tlayer = decode(hit)[\"layer\"]\n",
    "\t\t\tif layer != 0\n",
    "\t\t\t\tcontinue\n",
    "\t\t\tend\n",
    "\t\t\tfor i=1:LCIO.getNMCContributions(hit)\n",
    "\t\t\t\tpdgID = abs(getPDG(LCIO.getParticleCont(hit, i)))\n",
    "                \n",
    "\t\t\t\tif pdgID == 321 && LCIO.getTimeCont(hit, i)<300\n",
    "                    push!(kaonTimesbb, LCIO.getTimeCont(hit, i))\n",
    "                    push!(kMomentumbb, norm(LCIO.getMomentum(LCIO.getParticleCont(hit,i))))\n",
    "\t\t\t\telseif pdgID == 211 && LCIO.getTimeCont(hit, i)<300\n",
    "\t\t\t\t\tpush!(pionTimesbb, LCIO.getTimeCont(hit, i))\n",
    "                    push!(pMomentumbb, norm(LCIO.getMomentum(LCIO.getParticleCont(hit,i))))\n",
    "\t\t\t\tend\n",
    "\t\t\tend\n",
    "\t\tend\n",
    "\t\tif iEvent % 500 == 0\n",
    "\t\t\tprintln(\"processed \", iEvent, \" events\")\n",
    "\t\tend\n",
    "\tend\n",
    "end\n",
    "@save (\"kTbb\") kaonTimesbb\n",
    "@save (\"pTbb\") pionTimesbb\n",
    "@save (\"kMbb\") kMomentumbb\n",
    "@save (\"pMbb\") pMomentumbb"
   ]
  },
  {
   "cell_type": "code",
   "execution_count": 6,
   "metadata": {},
   "outputs": [
    {
     "name": "stdout",
     "output_type": "stream",
     "text": [
      "processed 500 events\n",
      "processed 1000 events\n",
      "processed 1500 events\n",
      "processed 2000 events\n",
      "processed 2500 events\n",
      "processed 3000 events\n",
      "processed 3500 events\n",
      "processed 4000 events\n",
      "processed 4500 events\n",
      "processed 5000 events\n",
      "processed 5500 events\n",
      "processed 6000 events\n",
      "processed 6500 events\n",
      "processed 7000 events\n",
      "processed 7500 events\n",
      "processed 8000 events\n",
      "processed 8500 events\n",
      "processed 9000 events\n",
      "processed 9500 events\n",
      "processed 10000 events\n"
     ]
    }
   ],
   "source": [
    "#charm quarks\n",
    "kaonTimescc = Float64[]\n",
    "pionTimescc = Float64[]\n",
    "LCIO.open(\"/nfs/dust/ilc/user/jstrube/StrangeHiggs/data/ccReco_10000.slcio\") do reader\n",
    "\tfor (iEvent, event) in enumerate(reader)\n",
    "    \tcoll = getCollection(event, \"ECalBarrelHits\")\n",
    "\t\tdecode = CellIDDecoder(coll)\n",
    "        for hit in coll\n",
    "\t\t\tlayer = decode(hit)[\"layer\"]\n",
    "\t\t\tif layer != 0\n",
    "\t\t\t\tcontinue\n",
    "\t\t\tend\n",
    "\t\t\tfor i=1:LCIO.getNMCContributions(hit)\n",
    "\t\t\t\tpdgID = abs(getPDG(LCIO.getParticleCont(hit, i)))\n",
    "\t\t\t\tif pdgID == 321\n",
    "\t\t\t\t\tpush!(kaonTimescc, LCIO.getTimeCont(hit, i))\n",
    "\t\t\t\telseif pdgID == 211\n",
    "\t\t\t\t\tpush!(pionTimescc, LCIO.getTimeCont(hit, i))\n",
    "\t\t\t\tend\n",
    "\t\t\tend\n",
    "\t\tend\n",
    "\t\tif iEvent % 500 == 0\n",
    "\t\t\tprintln(\"processed \", iEvent, \" events\")\n",
    "\t\tend\n",
    "\tend\n",
    "end\n",
    "@save (\"kTcc\") kaonTimescc\n",
    "@save (\"pTcc\") pionTimescc\n",
    "#plot(kaonTimes, seriestype=:stephist, label=\"K\", bins=0:0.1:10, normalize=true)\n",
    "#plot!(pionTimes, seriestype=:stephist, label=\"pi\", bins=0:0.1:10, normalize=true)\n",
    "#savefig(\"layer0times.png\")"
   ]
  },
  {
   "cell_type": "code",
   "execution_count": 9,
   "metadata": {},
   "outputs": [
    {
     "name": "stdout",
     "output_type": "stream",
     "text": [
      "processed 500 events\n",
      "processed 1000 events\n",
      "processed 1500 events\n",
      "processed 2000 events\n",
      "processed 2500 events\n",
      "processed 3000 events\n",
      "processed 3500 events\n",
      "processed 4000 events\n",
      "processed 4500 events\n",
      "processed 5000 events\n",
      "processed 5500 events\n",
      "processed 6000 events\n",
      "processed 6500 events\n",
      "processed 7000 events\n",
      "processed 7500 events\n",
      "processed 8000 events\n",
      "processed 8500 events\n",
      "processed 9000 events\n",
      "processed 9500 events\n",
      "processed 10000 events\n"
     ]
    }
   ],
   "source": [
    "#gluons\n",
    "kaonTimesgg = Float64[]\n",
    "pionTimesgg = Float64[]\n",
    "LCIO.open(\"/nfs/dust/ilc/user/jstrube/StrangeHiggs/data/ggReco_10000.slcio\") do reader\n",
    "\tfor (iEvent, event) in enumerate(reader)\n",
    "    \tcoll = getCollection(event, \"ECalBarrelHits\")\n",
    "\t\tdecode = CellIDDecoder(coll)\n",
    "        for hit in coll\n",
    "\t\t\tlayer = decode(hit)[\"layer\"]\n",
    "\t\t\tif layer != 0\n",
    "\t\t\t\tcontinue\n",
    "\t\t\tend\n",
    "\t\t\tfor i=1:LCIO.getNMCContributions(hit)\n",
    "\t\t\t\tpdgID = abs(getPDG(LCIO.getParticleCont(hit, i)))\n",
    "\t\t\t\tif pdgID == 321\n",
    "\t\t\t\t\tpush!(kaonTimesgg, LCIO.getTimeCont(hit, i))\n",
    "\t\t\t\telseif pdgID == 211\n",
    "\t\t\t\t\tpush!(pionTimesgg, LCIO.getTimeCont(hit, i))\n",
    "\t\t\t\tend\n",
    "\t\t\tend\n",
    "\t\tend\n",
    "\t\tif iEvent % 500 == 0\n",
    "\t\t\tprintln(\"processed \", iEvent, \" events\")\n",
    "\t\tend\n",
    "\tend\n",
    "end\n",
    "@save (\"kTgg\") kaonTimesgg\n",
    "@save (\"pTgg\") pionTimesgg\n",
    "#plot(kaonTimes, seriestype=:stephist, label=\"K\", bins=0:0.1:10, normalize=true)\n",
    "#plot!(pionTimes, seriestype=:stephist, label=\"pi\", bins=0:0.1:10, normalize=true)\n",
    "#savefig(\"layer0times.png\")"
   ]
  },
  {
   "cell_type": "code",
   "execution_count": 12,
   "metadata": {},
   "outputs": [
    {
     "name": "stdout",
     "output_type": "stream",
     "text": [
      "processed 500 events\n",
      "processed 1000 events\n",
      "processed 1500 events\n",
      "processed 2000 events\n",
      "processed 2500 events\n",
      "processed 3000 events\n",
      "processed 3500 events\n",
      "processed 4000 events\n",
      "processed 4500 events\n",
      "processed 5000 events\n",
      "processed 5500 events\n",
      "processed 6000 events\n",
      "processed 6500 events\n",
      "processed 7000 events\n",
      "processed 7500 events\n",
      "processed 8000 events\n",
      "processed 8500 events\n",
      "processed 9000 events\n",
      "processed 9500 events\n",
      "processed 10000 events\n"
     ]
    }
   ],
   "source": [
    "#strange quarks\n",
    "kaonTimesss = Float64[]\n",
    "pionTimesss = Float64[]\n",
    "LCIO.open(\"/nfs/dust/ilc/user/jstrube/StrangeHiggs/data/ssReco_10000.slcio\") do reader\n",
    "\tfor (iEvent, event) in enumerate(reader)\n",
    "    \tcoll = getCollection(event, \"ECalBarrelHits\")\n",
    "\t\tdecode = CellIDDecoder(coll)\n",
    "        for hit in coll\n",
    "\t\t\tlayer = decode(hit)[\"layer\"]\n",
    "\t\t\tif layer != 0\n",
    "\t\t\t\tcontinue\n",
    "\t\t\tend\n",
    "\t\t\tfor i=1:LCIO.getNMCContributions(hit)\n",
    "\t\t\t\tpdgID = abs(getPDG(LCIO.getParticleCont(hit, i)))\n",
    "\t\t\t\tif pdgID == 321\n",
    "\t\t\t\t\tpush!(kaonTimesss, LCIO.getTimeCont(hit, i))\n",
    "\t\t\t\telseif pdgID == 211\n",
    "\t\t\t\t\tpush!(pionTimesss, LCIO.getTimeCont(hit, i))\n",
    "\t\t\t\tend\n",
    "\t\t\tend\n",
    "\t\tend\n",
    "\t\tif iEvent % 500 == 0\n",
    "\t\t\tprintln(\"processed \", iEvent, \" events\")\n",
    "\t\tend\n",
    "\tend\n",
    "end\n",
    "@save (\"kTss\") kaonTimesss\n",
    "@save (\"pTss\") pionTimesss\n",
    "#plot(kaonTimes, seriestype=:stephist, label=\"K\", bins=0:0.1:10, normalize=true)\n",
    "#plot!(pionTimes, seriestype=:stephist, label=\"pi\", bins=0:0.1:10, normalize=true)\n",
    "#savefig(\"layer0times.png\")"
   ]
  },
  {
   "cell_type": "code",
   "execution_count": null,
   "metadata": {},
   "outputs": [],
   "source": []
  },
  {
   "cell_type": "code",
   "execution_count": null,
   "metadata": {},
   "outputs": [],
   "source": []
  }
 ],
 "metadata": {
  "kernelspec": {
   "display_name": "Julia 1.4.2",
   "language": "julia",
   "name": "julia-1.4"
  },
  "language_info": {
   "file_extension": ".jl",
   "mimetype": "application/julia",
   "name": "julia",
   "version": "1.4.2"
  }
 },
 "nbformat": 4,
 "nbformat_minor": 4
}
